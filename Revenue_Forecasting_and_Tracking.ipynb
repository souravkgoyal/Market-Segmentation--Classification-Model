{
 "cells": [
  {
   "cell_type": "markdown",
   "metadata": {},
   "source": [
    "# Problem Statement"
   ]
  },
  {
   "cell_type": "markdown",
   "metadata": {},
   "source": [
    "The objective of the problem is to determine the target platform for every customer will prefer who isn't using the self service portal.\n",
    "We have to make a classification model to predict the preference of of customers among the 4 self service portals based on the provided training data\n"
   ]
  },
  {
   "cell_type": "markdown",
   "metadata": {},
   "source": [
    "# Importing Data"
   ]
  },
  {
   "cell_type": "code",
   "execution_count": 1,
   "metadata": {},
   "outputs": [],
   "source": [
    "import pandas as pd\n",
    "from pyxlsb import open_workbook\n",
    "\n",
    "df=[]\n",
    "with open_workbook(r'C:\\Users\\saurabh\\Desktop\\Coursera Python\\EXL EQ\\EXL_EQ_2020_Train_datasets.xlsb') as wb:\n",
    "    with wb.get_sheet(2) as sheet:\n",
    "        for row in sheet.rows():\n",
    "            df.append([item.v for item in row])\n",
    "\n",
    "train_data = pd.DataFrame(df[1:], columns=df[0])"
   ]
  },
  {
   "cell_type": "code",
   "execution_count": 2,
   "metadata": {},
   "outputs": [],
   "source": [
    "import pandas as pd\n",
    "import numpy as np\n",
    "import matplotlib.pyplot as plt\n",
    "import seaborn as sns\n",
    "%matplotlib inline"
   ]
  },
  {
   "cell_type": "markdown",
   "metadata": {},
   "source": [
    "# Exploratory Data Analysis"
   ]
  },
  {
   "cell_type": "code",
   "execution_count": 3,
   "metadata": {},
   "outputs": [],
   "source": [
    "import warnings\n",
    "warnings.filterwarnings(\"ignore\")"
   ]
  },
  {
   "cell_type": "code",
   "execution_count": 4,
   "metadata": {},
   "outputs": [],
   "source": [
    "df=train_data.copy()"
   ]
  },
  {
   "cell_type": "code",
   "execution_count": 5,
   "metadata": {},
   "outputs": [
    {
     "data": {
      "text/plain": [
       "20"
      ]
     },
     "execution_count": 5,
     "metadata": {},
     "output_type": "execute_result"
    }
   ],
   "source": [
    "pd.get_option('display.max_columns',None)"
   ]
  },
  {
   "cell_type": "code",
   "execution_count": 6,
   "metadata": {},
   "outputs": [],
   "source": [
    "pd.set_option('display.max_columns',None)"
   ]
  },
  {
   "cell_type": "code",
   "execution_count": 7,
   "metadata": {},
   "outputs": [
    {
     "data": {
      "text/html": [
       "<div>\n",
       "<style scoped>\n",
       "    .dataframe tbody tr th:only-of-type {\n",
       "        vertical-align: middle;\n",
       "    }\n",
       "\n",
       "    .dataframe tbody tr th {\n",
       "        vertical-align: top;\n",
       "    }\n",
       "\n",
       "    .dataframe thead th {\n",
       "        text-align: right;\n",
       "    }\n",
       "</style>\n",
       "<table border=\"1\" class=\"dataframe\">\n",
       "  <thead>\n",
       "    <tr style=\"text-align: right;\">\n",
       "      <th></th>\n",
       "      <th>cust_id</th>\n",
       "      <th>Account Tenure</th>\n",
       "      <th>Temporary Accounts Disconnected</th>\n",
       "      <th>Wireless Equipments Owned</th>\n",
       "      <th>Internet Connect Status</th>\n",
       "      <th>Voice Ticks</th>\n",
       "      <th>Social Positioning</th>\n",
       "      <th>Emails Opened</th>\n",
       "      <th>On-Demand Videos Watched</th>\n",
       "      <th>Median House Value</th>\n",
       "      <th>Billing issue IVR calls</th>\n",
       "      <th>Digital Equipments Owned</th>\n",
       "      <th>Duration News Channel Watched</th>\n",
       "      <th>Tenure for Video Prodect</th>\n",
       "      <th>DVD- HR Owned</th>\n",
       "      <th>Video Products Tickets</th>\n",
       "      <th>Spanish Video Package</th>\n",
       "      <th>Trades Delinquent</th>\n",
       "      <th>Median Family Income</th>\n",
       "      <th>Use of Credit Card</th>\n",
       "      <th>Rmail Count</th>\n",
       "      <th>Enrollment</th>\n",
       "      <th>Tickets Raised</th>\n",
       "      <th>Monthly recurring charge</th>\n",
       "      <th>Video Product Calls</th>\n",
       "      <th>Unique Agent Handled</th>\n",
       "      <th>Dirrct Mails Sent</th>\n",
       "      <th>Sales Call Made</th>\n",
       "      <th>Active Account Offer</th>\n",
       "      <th>Top Viewed Channels</th>\n",
       "      <th>Previous Account Status</th>\n",
       "      <th>Monthly Payment Mode</th>\n",
       "      <th>Scherp products Subscribed</th>\n",
       "      <th>Prefer direct mail</th>\n",
       "      <th>IVR call Redirects ticket</th>\n",
       "      <th>Dwelling Type</th>\n",
       "      <th>Hardcopy Statement</th>\n",
       "      <th>Self_Service_Platform</th>\n",
       "    </tr>\n",
       "  </thead>\n",
       "  <tbody>\n",
       "    <tr>\n",
       "      <th>0</th>\n",
       "      <td>100001.0</td>\n",
       "      <td>2667.0</td>\n",
       "      <td>0.0</td>\n",
       "      <td>0.0</td>\n",
       "      <td>1768.0</td>\n",
       "      <td>0.0</td>\n",
       "      <td>4.0</td>\n",
       "      <td>0.0</td>\n",
       "      <td>2.0</td>\n",
       "      <td>291016.0</td>\n",
       "      <td>0.0</td>\n",
       "      <td>0.0</td>\n",
       "      <td>109.0</td>\n",
       "      <td>447.0</td>\n",
       "      <td>0.0</td>\n",
       "      <td>161.0</td>\n",
       "      <td>0.0</td>\n",
       "      <td>9.0</td>\n",
       "      <td>85287.0</td>\n",
       "      <td>27.0</td>\n",
       "      <td>0.0</td>\n",
       "      <td>0.0</td>\n",
       "      <td>4.0</td>\n",
       "      <td>153.0</td>\n",
       "      <td>0.0</td>\n",
       "      <td>0.0</td>\n",
       "      <td>.</td>\n",
       "      <td>0.0</td>\n",
       "      <td>0.0</td>\n",
       "      <td>other</td>\n",
       "      <td>Inactive</td>\n",
       "      <td>Standard</td>\n",
       "      <td>Video/Internet/Voice</td>\n",
       "      <td>N</td>\n",
       "      <td>None</td>\n",
       "      <td>Single Housing</td>\n",
       "      <td>N</td>\n",
       "      <td>Desktop</td>\n",
       "    </tr>\n",
       "    <tr>\n",
       "      <th>1</th>\n",
       "      <td>100002.0</td>\n",
       "      <td>435.0</td>\n",
       "      <td>0.0</td>\n",
       "      <td>0.0</td>\n",
       "      <td>515.0</td>\n",
       "      <td>0.0</td>\n",
       "      <td>3.0</td>\n",
       "      <td>0.0</td>\n",
       "      <td>0.0</td>\n",
       "      <td>137667.0</td>\n",
       "      <td>0.0</td>\n",
       "      <td>0.0</td>\n",
       "      <td>17.0</td>\n",
       "      <td>135.0</td>\n",
       "      <td>0.0</td>\n",
       "      <td>34.0</td>\n",
       "      <td>0.0</td>\n",
       "      <td>4.0</td>\n",
       "      <td>60868.0</td>\n",
       "      <td>4.0</td>\n",
       "      <td>0.0</td>\n",
       "      <td>0.0</td>\n",
       "      <td>1.0</td>\n",
       "      <td>74.0</td>\n",
       "      <td>0.0</td>\n",
       "      <td>0.0</td>\n",
       "      <td>.</td>\n",
       "      <td>0.0</td>\n",
       "      <td>0.0</td>\n",
       "      <td>other</td>\n",
       "      <td>Never</td>\n",
       "      <td>Standard</td>\n",
       "      <td>Video/Internet</td>\n",
       "      <td>N</td>\n",
       "      <td>None</td>\n",
       "      <td>Single Housing</td>\n",
       "      <td>N</td>\n",
       "      <td>Desktop</td>\n",
       "    </tr>\n",
       "    <tr>\n",
       "      <th>2</th>\n",
       "      <td>100003.0</td>\n",
       "      <td>1520.0</td>\n",
       "      <td>0.0</td>\n",
       "      <td>0.0</td>\n",
       "      <td>2280.0</td>\n",
       "      <td>0.0</td>\n",
       "      <td>6.0</td>\n",
       "      <td>0.0</td>\n",
       "      <td>4.0</td>\n",
       "      <td>301567.0</td>\n",
       "      <td>0.0</td>\n",
       "      <td>0.0</td>\n",
       "      <td>120.0</td>\n",
       "      <td>453.0</td>\n",
       "      <td>0.0</td>\n",
       "      <td>112.0</td>\n",
       "      <td>0.0</td>\n",
       "      <td>10.0</td>\n",
       "      <td>92324.0</td>\n",
       "      <td>26.0</td>\n",
       "      <td>0.0</td>\n",
       "      <td>0.0</td>\n",
       "      <td>5.0</td>\n",
       "      <td>133.0</td>\n",
       "      <td>0.0</td>\n",
       "      <td>0.0</td>\n",
       "      <td>.</td>\n",
       "      <td>0.0</td>\n",
       "      <td>0.0</td>\n",
       "      <td>other</td>\n",
       "      <td>Inactive</td>\n",
       "      <td>Standard</td>\n",
       "      <td>Video/Internet/Voice</td>\n",
       "      <td>N</td>\n",
       "      <td>Agent</td>\n",
       "      <td>Single Housing</td>\n",
       "      <td>Y</td>\n",
       "      <td>Desktop</td>\n",
       "    </tr>\n",
       "    <tr>\n",
       "      <th>3</th>\n",
       "      <td>100004.0</td>\n",
       "      <td>4393.0</td>\n",
       "      <td>0.0</td>\n",
       "      <td>1.0</td>\n",
       "      <td>5731.0</td>\n",
       "      <td>0.0</td>\n",
       "      <td>8.0</td>\n",
       "      <td>1.0</td>\n",
       "      <td>27.0</td>\n",
       "      <td>436735.0</td>\n",
       "      <td>1.0</td>\n",
       "      <td>0.0</td>\n",
       "      <td>726.0</td>\n",
       "      <td>797.0</td>\n",
       "      <td>1.0</td>\n",
       "      <td>266.0</td>\n",
       "      <td>0.0</td>\n",
       "      <td>33.0</td>\n",
       "      <td>117785.0</td>\n",
       "      <td>71.0</td>\n",
       "      <td>20.0</td>\n",
       "      <td>0.0</td>\n",
       "      <td>11.0</td>\n",
       "      <td>208.0</td>\n",
       "      <td>8.0</td>\n",
       "      <td>10.0</td>\n",
       "      <td>.</td>\n",
       "      <td>0.0</td>\n",
       "      <td>1.0</td>\n",
       "      <td>other</td>\n",
       "      <td>Active</td>\n",
       "      <td>Standard</td>\n",
       "      <td>Internet Only</td>\n",
       "      <td>None</td>\n",
       "      <td>None</td>\n",
       "      <td>Single Housing</td>\n",
       "      <td>N</td>\n",
       "      <td>Desktop</td>\n",
       "    </tr>\n",
       "    <tr>\n",
       "      <th>4</th>\n",
       "      <td>100005.0</td>\n",
       "      <td>3587.0</td>\n",
       "      <td>0.0</td>\n",
       "      <td>0.0</td>\n",
       "      <td>2493.0</td>\n",
       "      <td>0.0</td>\n",
       "      <td>7.0</td>\n",
       "      <td>0.0</td>\n",
       "      <td>7.0</td>\n",
       "      <td>314970.0</td>\n",
       "      <td>0.0</td>\n",
       "      <td>0.0</td>\n",
       "      <td>237.0</td>\n",
       "      <td>614.0</td>\n",
       "      <td>0.0</td>\n",
       "      <td>166.0</td>\n",
       "      <td>0.0</td>\n",
       "      <td>15.0</td>\n",
       "      <td>100083.0</td>\n",
       "      <td>46.0</td>\n",
       "      <td>33.0</td>\n",
       "      <td>0.0</td>\n",
       "      <td>6.0</td>\n",
       "      <td>155.0</td>\n",
       "      <td>0.0</td>\n",
       "      <td>1.0</td>\n",
       "      <td>.</td>\n",
       "      <td>0.0</td>\n",
       "      <td>0.0</td>\n",
       "      <td>movie_channel1</td>\n",
       "      <td>Never</td>\n",
       "      <td>Standard</td>\n",
       "      <td>Internet Only</td>\n",
       "      <td>N</td>\n",
       "      <td>None</td>\n",
       "      <td>Multi Housing</td>\n",
       "      <td>N</td>\n",
       "      <td>STB</td>\n",
       "    </tr>\n",
       "  </tbody>\n",
       "</table>\n",
       "</div>"
      ],
      "text/plain": [
       "    cust_id  Account Tenure  Temporary Accounts Disconnected  \\\n",
       "0  100001.0          2667.0                              0.0   \n",
       "1  100002.0           435.0                              0.0   \n",
       "2  100003.0          1520.0                              0.0   \n",
       "3  100004.0          4393.0                              0.0   \n",
       "4  100005.0          3587.0                              0.0   \n",
       "\n",
       "   Wireless Equipments Owned  Internet Connect Status  Voice Ticks  \\\n",
       "0                        0.0                   1768.0          0.0   \n",
       "1                        0.0                    515.0          0.0   \n",
       "2                        0.0                   2280.0          0.0   \n",
       "3                        1.0                   5731.0          0.0   \n",
       "4                        0.0                   2493.0          0.0   \n",
       "\n",
       "   Social Positioning  Emails Opened  On-Demand Videos Watched  \\\n",
       "0                 4.0            0.0                       2.0   \n",
       "1                 3.0            0.0                       0.0   \n",
       "2                 6.0            0.0                       4.0   \n",
       "3                 8.0            1.0                      27.0   \n",
       "4                 7.0            0.0                       7.0   \n",
       "\n",
       "   Median House Value  Billing issue IVR calls  Digital Equipments Owned  \\\n",
       "0            291016.0                      0.0                       0.0   \n",
       "1            137667.0                      0.0                       0.0   \n",
       "2            301567.0                      0.0                       0.0   \n",
       "3            436735.0                      1.0                       0.0   \n",
       "4            314970.0                      0.0                       0.0   \n",
       "\n",
       "   Duration News Channel Watched  Tenure for Video Prodect  DVD- HR Owned  \\\n",
       "0                          109.0                     447.0            0.0   \n",
       "1                           17.0                     135.0            0.0   \n",
       "2                          120.0                     453.0            0.0   \n",
       "3                          726.0                     797.0            1.0   \n",
       "4                          237.0                     614.0            0.0   \n",
       "\n",
       "   Video Products Tickets  Spanish Video Package  Trades Delinquent  \\\n",
       "0                   161.0                    0.0                9.0   \n",
       "1                    34.0                    0.0                4.0   \n",
       "2                   112.0                    0.0               10.0   \n",
       "3                   266.0                    0.0               33.0   \n",
       "4                   166.0                    0.0               15.0   \n",
       "\n",
       "   Median Family Income  Use of Credit Card  Rmail Count  Enrollment  \\\n",
       "0               85287.0                27.0          0.0         0.0   \n",
       "1               60868.0                 4.0          0.0         0.0   \n",
       "2               92324.0                26.0          0.0         0.0   \n",
       "3              117785.0                71.0         20.0         0.0   \n",
       "4              100083.0                46.0         33.0         0.0   \n",
       "\n",
       "   Tickets Raised  Monthly recurring charge  Video Product Calls  \\\n",
       "0             4.0                     153.0                  0.0   \n",
       "1             1.0                      74.0                  0.0   \n",
       "2             5.0                     133.0                  0.0   \n",
       "3            11.0                     208.0                  8.0   \n",
       "4             6.0                     155.0                  0.0   \n",
       "\n",
       "   Unique Agent Handled Dirrct Mails Sent  Sales Call Made  \\\n",
       "0                   0.0                 .              0.0   \n",
       "1                   0.0                 .              0.0   \n",
       "2                   0.0                 .              0.0   \n",
       "3                  10.0                 .              0.0   \n",
       "4                   1.0                 .              0.0   \n",
       "\n",
       "   Active Account Offer Top Viewed Channels Previous Account Status  \\\n",
       "0                   0.0               other                Inactive   \n",
       "1                   0.0               other                   Never   \n",
       "2                   0.0               other                Inactive   \n",
       "3                   1.0               other                  Active   \n",
       "4                   0.0      movie_channel1                   Never   \n",
       "\n",
       "  Monthly Payment Mode  Scherp products Subscribed Prefer direct mail  \\\n",
       "0             Standard        Video/Internet/Voice                  N   \n",
       "1             Standard              Video/Internet                  N   \n",
       "2             Standard        Video/Internet/Voice                  N   \n",
       "3             Standard               Internet Only               None   \n",
       "4             Standard               Internet Only                  N   \n",
       "\n",
       "  IVR call Redirects ticket   Dwelling Type Hardcopy Statement   \\\n",
       "0                      None  Single Housing                   N   \n",
       "1                      None  Single Housing                   N   \n",
       "2                     Agent  Single Housing                   Y   \n",
       "3                      None  Single Housing                   N   \n",
       "4                      None   Multi Housing                   N   \n",
       "\n",
       "  Self_Service_Platform  \n",
       "0               Desktop  \n",
       "1               Desktop  \n",
       "2               Desktop  \n",
       "3               Desktop  \n",
       "4                   STB  "
      ]
     },
     "execution_count": 7,
     "metadata": {},
     "output_type": "execute_result"
    }
   ],
   "source": [
    "df.head()"
   ]
  },
  {
   "cell_type": "code",
   "execution_count": 8,
   "metadata": {},
   "outputs": [
    {
     "data": {
      "text/plain": [
       "(300000, 38)"
      ]
     },
     "execution_count": 8,
     "metadata": {},
     "output_type": "execute_result"
    }
   ],
   "source": [
    "df.shape"
   ]
  },
  {
   "cell_type": "code",
   "execution_count": 9,
   "metadata": {},
   "outputs": [
    {
     "data": {
      "text/plain": [
       "cust_id                                 0\n",
       "Account Tenure                          0\n",
       "Temporary Accounts Disconnected         0\n",
       "Wireless Equipments Owned               0\n",
       "Internet Connect Status                 0\n",
       "Voice Ticks                             0\n",
       "Social Positioning                      0\n",
       "Emails Opened                           0\n",
       "On-Demand Videos Watched                0\n",
       "Median House Value                      0\n",
       "Billing issue IVR calls                 0\n",
       "Digital Equipments Owned                0\n",
       "Duration News Channel Watched           0\n",
       "Tenure for Video Prodect                0\n",
       "DVD- HR Owned                           0\n",
       "Video Products Tickets                  0\n",
       "Spanish Video Package                   0\n",
       "Trades Delinquent                       0\n",
       "Median Family Income                    0\n",
       "Use of Credit Card                      0\n",
       "Rmail Count                          9916\n",
       "Enrollment                              0\n",
       "Tickets Raised                          0\n",
       "Monthly recurring charge                0\n",
       "Video Product Calls                     0\n",
       "Unique Agent Handled                    0\n",
       "Dirrct Mails Sent                       0\n",
       "Sales Call Made                         0\n",
       "Active Account Offer                    0\n",
       "Top Viewed Channels                     0\n",
       "Previous Account Status                 0\n",
       "Monthly Payment Mode                    0\n",
       " Scherp products Subscribed          4633\n",
       "Prefer direct mail                  19442\n",
       "IVR call Redirects ticket          185152\n",
       "Dwelling Type                          22\n",
       "Hardcopy Statement                      0\n",
       "Self_Service_Platform                   0\n",
       "dtype: int64"
      ]
     },
     "execution_count": 9,
     "metadata": {},
     "output_type": "execute_result"
    }
   ],
   "source": [
    "df.isnull().sum()"
   ]
  },
  {
   "cell_type": "code",
   "execution_count": 10,
   "metadata": {},
   "outputs": [],
   "source": [
    "df.drop(['Dirrct Mails Sent','IVR call Redirects ticket'],axis=1,inplace=True)"
   ]
  },
  {
   "cell_type": "code",
   "execution_count": 11,
   "metadata": {},
   "outputs": [
    {
     "data": {
      "text/plain": [
       "(300000, 36)"
      ]
     },
     "execution_count": 11,
     "metadata": {},
     "output_type": "execute_result"
    }
   ],
   "source": [
    "df.shape"
   ]
  },
  {
   "cell_type": "code",
   "execution_count": 12,
   "metadata": {},
   "outputs": [],
   "source": [
    "#Getting Object type features into one list\n",
    "obj_features=[]\n",
    "for i in range(0,len(df.columns)):\n",
    "    if df.iloc[:,i].dtypes=='object' and df.iloc[:,i].name !='Self_Service_Platform': \n",
    "            obj_features.append(df.iloc[:,i].name)"
   ]
  },
  {
   "cell_type": "code",
   "execution_count": 13,
   "metadata": {},
   "outputs": [],
   "source": [
    "for i in range(0,len(obj_features)):\n",
    "    name=obj_features[i]\n",
    "    df[name]=df[name].fillna(df[name].mode()[0])"
   ]
  },
  {
   "cell_type": "code",
   "execution_count": 14,
   "metadata": {},
   "outputs": [
    {
     "data": {
      "text/plain": [
       "cust_id                               0\n",
       "Account Tenure                        0\n",
       "Temporary Accounts Disconnected       0\n",
       "Wireless Equipments Owned             0\n",
       "Internet Connect Status               0\n",
       "Voice Ticks                           0\n",
       "Social Positioning                    0\n",
       "Emails Opened                         0\n",
       "On-Demand Videos Watched              0\n",
       "Median House Value                    0\n",
       "Billing issue IVR calls               0\n",
       "Digital Equipments Owned              0\n",
       "Duration News Channel Watched         0\n",
       "Tenure for Video Prodect              0\n",
       "DVD- HR Owned                         0\n",
       "Video Products Tickets                0\n",
       "Spanish Video Package                 0\n",
       "Trades Delinquent                     0\n",
       "Median Family Income                  0\n",
       "Use of Credit Card                    0\n",
       "Rmail Count                        9916\n",
       "Enrollment                            0\n",
       "Tickets Raised                        0\n",
       "Monthly recurring charge              0\n",
       "Video Product Calls                   0\n",
       "Unique Agent Handled                  0\n",
       "Sales Call Made                       0\n",
       "Active Account Offer                  0\n",
       "Top Viewed Channels                   0\n",
       "Previous Account Status               0\n",
       "Monthly Payment Mode                  0\n",
       " Scherp products Subscribed           0\n",
       "Prefer direct mail                    0\n",
       "Dwelling Type                         0\n",
       "Hardcopy Statement                    0\n",
       "Self_Service_Platform                 0\n",
       "dtype: int64"
      ]
     },
     "execution_count": 14,
     "metadata": {},
     "output_type": "execute_result"
    }
   ],
   "source": [
    "df.isnull().sum()"
   ]
  },
  {
   "cell_type": "code",
   "execution_count": 15,
   "metadata": {},
   "outputs": [],
   "source": [
    "df['Rmail Count']=df['Rmail Count'].fillna(df['Rmail Count'].mean())"
   ]
  },
  {
   "cell_type": "code",
   "execution_count": 16,
   "metadata": {},
   "outputs": [],
   "source": [
    "from sklearn.preprocessing import LabelEncoder\n",
    "le=LabelEncoder()\n",
    "for i in range(0,len(obj_features)):\n",
    "    name=obj_features[i]\n",
    "    df[name]=le.fit_transform(df[name].astype(str))"
   ]
  },
  {
   "cell_type": "code",
   "execution_count": 17,
   "metadata": {},
   "outputs": [],
   "source": [
    "float_features=[]\n",
    "for i in range(0,len(df.columns)):\n",
    "    if df.iloc[:,i].dtypes=='float' and df.iloc[:,i].name !='Self_Service_Platform': \n",
    "            float_features.append(df.iloc[:,i].name)"
   ]
  },
  {
   "cell_type": "code",
   "execution_count": 18,
   "metadata": {},
   "outputs": [],
   "source": [
    "for i in range(0,len(float_features)):\n",
    "    name=float_features[i]\n",
    "    df[name]=df[name].astype('int')"
   ]
  },
  {
   "cell_type": "code",
   "execution_count": 19,
   "metadata": {},
   "outputs": [
    {
     "data": {
      "text/html": [
       "<div>\n",
       "<style scoped>\n",
       "    .dataframe tbody tr th:only-of-type {\n",
       "        vertical-align: middle;\n",
       "    }\n",
       "\n",
       "    .dataframe tbody tr th {\n",
       "        vertical-align: top;\n",
       "    }\n",
       "\n",
       "    .dataframe thead th {\n",
       "        text-align: right;\n",
       "    }\n",
       "</style>\n",
       "<table border=\"1\" class=\"dataframe\">\n",
       "  <thead>\n",
       "    <tr style=\"text-align: right;\">\n",
       "      <th></th>\n",
       "      <th>cust_id</th>\n",
       "      <th>Account Tenure</th>\n",
       "      <th>Temporary Accounts Disconnected</th>\n",
       "      <th>Wireless Equipments Owned</th>\n",
       "      <th>Internet Connect Status</th>\n",
       "      <th>Voice Ticks</th>\n",
       "      <th>Social Positioning</th>\n",
       "      <th>Emails Opened</th>\n",
       "      <th>On-Demand Videos Watched</th>\n",
       "      <th>Median House Value</th>\n",
       "      <th>Billing issue IVR calls</th>\n",
       "      <th>Digital Equipments Owned</th>\n",
       "      <th>Duration News Channel Watched</th>\n",
       "      <th>Tenure for Video Prodect</th>\n",
       "      <th>DVD- HR Owned</th>\n",
       "      <th>Video Products Tickets</th>\n",
       "      <th>Spanish Video Package</th>\n",
       "      <th>Trades Delinquent</th>\n",
       "      <th>Median Family Income</th>\n",
       "      <th>Use of Credit Card</th>\n",
       "      <th>Rmail Count</th>\n",
       "      <th>Enrollment</th>\n",
       "      <th>Tickets Raised</th>\n",
       "      <th>Monthly recurring charge</th>\n",
       "      <th>Video Product Calls</th>\n",
       "      <th>Unique Agent Handled</th>\n",
       "      <th>Sales Call Made</th>\n",
       "      <th>Active Account Offer</th>\n",
       "      <th>Top Viewed Channels</th>\n",
       "      <th>Previous Account Status</th>\n",
       "      <th>Monthly Payment Mode</th>\n",
       "      <th>Scherp products Subscribed</th>\n",
       "      <th>Prefer direct mail</th>\n",
       "      <th>Dwelling Type</th>\n",
       "      <th>Hardcopy Statement</th>\n",
       "      <th>Self_Service_Platform</th>\n",
       "    </tr>\n",
       "  </thead>\n",
       "  <tbody>\n",
       "    <tr>\n",
       "      <th>0</th>\n",
       "      <td>100001</td>\n",
       "      <td>2667</td>\n",
       "      <td>0</td>\n",
       "      <td>0</td>\n",
       "      <td>1768</td>\n",
       "      <td>0</td>\n",
       "      <td>4</td>\n",
       "      <td>0</td>\n",
       "      <td>2</td>\n",
       "      <td>291016</td>\n",
       "      <td>0</td>\n",
       "      <td>0</td>\n",
       "      <td>109</td>\n",
       "      <td>447</td>\n",
       "      <td>0</td>\n",
       "      <td>161</td>\n",
       "      <td>0</td>\n",
       "      <td>9</td>\n",
       "      <td>85287</td>\n",
       "      <td>27</td>\n",
       "      <td>0</td>\n",
       "      <td>0</td>\n",
       "      <td>4</td>\n",
       "      <td>153</td>\n",
       "      <td>0</td>\n",
       "      <td>0</td>\n",
       "      <td>0</td>\n",
       "      <td>0</td>\n",
       "      <td>5</td>\n",
       "      <td>2</td>\n",
       "      <td>2</td>\n",
       "      <td>9</td>\n",
       "      <td>0</td>\n",
       "      <td>4</td>\n",
       "      <td>0</td>\n",
       "      <td>Desktop</td>\n",
       "    </tr>\n",
       "    <tr>\n",
       "      <th>1</th>\n",
       "      <td>100002</td>\n",
       "      <td>435</td>\n",
       "      <td>0</td>\n",
       "      <td>0</td>\n",
       "      <td>515</td>\n",
       "      <td>0</td>\n",
       "      <td>3</td>\n",
       "      <td>0</td>\n",
       "      <td>0</td>\n",
       "      <td>137667</td>\n",
       "      <td>0</td>\n",
       "      <td>0</td>\n",
       "      <td>17</td>\n",
       "      <td>135</td>\n",
       "      <td>0</td>\n",
       "      <td>34</td>\n",
       "      <td>0</td>\n",
       "      <td>4</td>\n",
       "      <td>60868</td>\n",
       "      <td>4</td>\n",
       "      <td>0</td>\n",
       "      <td>0</td>\n",
       "      <td>1</td>\n",
       "      <td>74</td>\n",
       "      <td>0</td>\n",
       "      <td>0</td>\n",
       "      <td>0</td>\n",
       "      <td>0</td>\n",
       "      <td>5</td>\n",
       "      <td>3</td>\n",
       "      <td>2</td>\n",
       "      <td>7</td>\n",
       "      <td>0</td>\n",
       "      <td>4</td>\n",
       "      <td>0</td>\n",
       "      <td>Desktop</td>\n",
       "    </tr>\n",
       "    <tr>\n",
       "      <th>2</th>\n",
       "      <td>100003</td>\n",
       "      <td>1520</td>\n",
       "      <td>0</td>\n",
       "      <td>0</td>\n",
       "      <td>2280</td>\n",
       "      <td>0</td>\n",
       "      <td>6</td>\n",
       "      <td>0</td>\n",
       "      <td>4</td>\n",
       "      <td>301567</td>\n",
       "      <td>0</td>\n",
       "      <td>0</td>\n",
       "      <td>120</td>\n",
       "      <td>453</td>\n",
       "      <td>0</td>\n",
       "      <td>112</td>\n",
       "      <td>0</td>\n",
       "      <td>10</td>\n",
       "      <td>92324</td>\n",
       "      <td>26</td>\n",
       "      <td>0</td>\n",
       "      <td>0</td>\n",
       "      <td>5</td>\n",
       "      <td>133</td>\n",
       "      <td>0</td>\n",
       "      <td>0</td>\n",
       "      <td>0</td>\n",
       "      <td>0</td>\n",
       "      <td>5</td>\n",
       "      <td>2</td>\n",
       "      <td>2</td>\n",
       "      <td>9</td>\n",
       "      <td>0</td>\n",
       "      <td>4</td>\n",
       "      <td>1</td>\n",
       "      <td>Desktop</td>\n",
       "    </tr>\n",
       "    <tr>\n",
       "      <th>3</th>\n",
       "      <td>100004</td>\n",
       "      <td>4393</td>\n",
       "      <td>0</td>\n",
       "      <td>1</td>\n",
       "      <td>5731</td>\n",
       "      <td>0</td>\n",
       "      <td>8</td>\n",
       "      <td>1</td>\n",
       "      <td>27</td>\n",
       "      <td>436735</td>\n",
       "      <td>1</td>\n",
       "      <td>0</td>\n",
       "      <td>726</td>\n",
       "      <td>797</td>\n",
       "      <td>1</td>\n",
       "      <td>266</td>\n",
       "      <td>0</td>\n",
       "      <td>33</td>\n",
       "      <td>117785</td>\n",
       "      <td>71</td>\n",
       "      <td>20</td>\n",
       "      <td>0</td>\n",
       "      <td>11</td>\n",
       "      <td>208</td>\n",
       "      <td>8</td>\n",
       "      <td>10</td>\n",
       "      <td>0</td>\n",
       "      <td>1</td>\n",
       "      <td>5</td>\n",
       "      <td>0</td>\n",
       "      <td>2</td>\n",
       "      <td>1</td>\n",
       "      <td>0</td>\n",
       "      <td>4</td>\n",
       "      <td>0</td>\n",
       "      <td>Desktop</td>\n",
       "    </tr>\n",
       "    <tr>\n",
       "      <th>4</th>\n",
       "      <td>100005</td>\n",
       "      <td>3587</td>\n",
       "      <td>0</td>\n",
       "      <td>0</td>\n",
       "      <td>2493</td>\n",
       "      <td>0</td>\n",
       "      <td>7</td>\n",
       "      <td>0</td>\n",
       "      <td>7</td>\n",
       "      <td>314970</td>\n",
       "      <td>0</td>\n",
       "      <td>0</td>\n",
       "      <td>237</td>\n",
       "      <td>614</td>\n",
       "      <td>0</td>\n",
       "      <td>166</td>\n",
       "      <td>0</td>\n",
       "      <td>15</td>\n",
       "      <td>100083</td>\n",
       "      <td>46</td>\n",
       "      <td>33</td>\n",
       "      <td>0</td>\n",
       "      <td>6</td>\n",
       "      <td>155</td>\n",
       "      <td>0</td>\n",
       "      <td>1</td>\n",
       "      <td>0</td>\n",
       "      <td>0</td>\n",
       "      <td>2</td>\n",
       "      <td>3</td>\n",
       "      <td>2</td>\n",
       "      <td>1</td>\n",
       "      <td>0</td>\n",
       "      <td>2</td>\n",
       "      <td>0</td>\n",
       "      <td>STB</td>\n",
       "    </tr>\n",
       "  </tbody>\n",
       "</table>\n",
       "</div>"
      ],
      "text/plain": [
       "   cust_id  Account Tenure  Temporary Accounts Disconnected  \\\n",
       "0   100001            2667                                0   \n",
       "1   100002             435                                0   \n",
       "2   100003            1520                                0   \n",
       "3   100004            4393                                0   \n",
       "4   100005            3587                                0   \n",
       "\n",
       "   Wireless Equipments Owned  Internet Connect Status  Voice Ticks  \\\n",
       "0                          0                     1768            0   \n",
       "1                          0                      515            0   \n",
       "2                          0                     2280            0   \n",
       "3                          1                     5731            0   \n",
       "4                          0                     2493            0   \n",
       "\n",
       "   Social Positioning  Emails Opened  On-Demand Videos Watched  \\\n",
       "0                   4              0                         2   \n",
       "1                   3              0                         0   \n",
       "2                   6              0                         4   \n",
       "3                   8              1                        27   \n",
       "4                   7              0                         7   \n",
       "\n",
       "   Median House Value  Billing issue IVR calls  Digital Equipments Owned  \\\n",
       "0              291016                        0                         0   \n",
       "1              137667                        0                         0   \n",
       "2              301567                        0                         0   \n",
       "3              436735                        1                         0   \n",
       "4              314970                        0                         0   \n",
       "\n",
       "   Duration News Channel Watched  Tenure for Video Prodect  DVD- HR Owned  \\\n",
       "0                            109                       447              0   \n",
       "1                             17                       135              0   \n",
       "2                            120                       453              0   \n",
       "3                            726                       797              1   \n",
       "4                            237                       614              0   \n",
       "\n",
       "   Video Products Tickets  Spanish Video Package  Trades Delinquent  \\\n",
       "0                     161                      0                  9   \n",
       "1                      34                      0                  4   \n",
       "2                     112                      0                 10   \n",
       "3                     266                      0                 33   \n",
       "4                     166                      0                 15   \n",
       "\n",
       "   Median Family Income  Use of Credit Card  Rmail Count  Enrollment  \\\n",
       "0                 85287                  27            0           0   \n",
       "1                 60868                   4            0           0   \n",
       "2                 92324                  26            0           0   \n",
       "3                117785                  71           20           0   \n",
       "4                100083                  46           33           0   \n",
       "\n",
       "   Tickets Raised  Monthly recurring charge  Video Product Calls  \\\n",
       "0               4                       153                    0   \n",
       "1               1                        74                    0   \n",
       "2               5                       133                    0   \n",
       "3              11                       208                    8   \n",
       "4               6                       155                    0   \n",
       "\n",
       "   Unique Agent Handled  Sales Call Made  Active Account Offer  \\\n",
       "0                     0                0                     0   \n",
       "1                     0                0                     0   \n",
       "2                     0                0                     0   \n",
       "3                    10                0                     1   \n",
       "4                     1                0                     0   \n",
       "\n",
       "   Top Viewed Channels  Previous Account Status  Monthly Payment Mode  \\\n",
       "0                    5                        2                     2   \n",
       "1                    5                        3                     2   \n",
       "2                    5                        2                     2   \n",
       "3                    5                        0                     2   \n",
       "4                    2                        3                     2   \n",
       "\n",
       "    Scherp products Subscribed  Prefer direct mail  Dwelling Type  \\\n",
       "0                            9                   0              4   \n",
       "1                            7                   0              4   \n",
       "2                            9                   0              4   \n",
       "3                            1                   0              4   \n",
       "4                            1                   0              2   \n",
       "\n",
       "   Hardcopy Statement  Self_Service_Platform  \n",
       "0                    0               Desktop  \n",
       "1                    0               Desktop  \n",
       "2                    1               Desktop  \n",
       "3                    0               Desktop  \n",
       "4                    0                   STB  "
      ]
     },
     "execution_count": 19,
     "metadata": {},
     "output_type": "execute_result"
    }
   ],
   "source": [
    "df.head()"
   ]
  },
  {
   "cell_type": "code",
   "execution_count": 20,
   "metadata": {},
   "outputs": [
    {
     "name": "stdout",
     "output_type": "stream",
     "text": [
      "Shape of Train Data :(300000, 36)\n"
     ]
    }
   ],
   "source": [
    "df.sort_values(by='cust_id')\n",
    "train=df.iloc[:300000,:]\n",
    "print('Shape of Train Data :' + str(train.shape))"
   ]
  },
  {
   "cell_type": "code",
   "execution_count": 21,
   "metadata": {},
   "outputs": [
    {
     "data": {
      "text/html": [
       "<div>\n",
       "<style scoped>\n",
       "    .dataframe tbody tr th:only-of-type {\n",
       "        vertical-align: middle;\n",
       "    }\n",
       "\n",
       "    .dataframe tbody tr th {\n",
       "        vertical-align: top;\n",
       "    }\n",
       "\n",
       "    .dataframe thead th {\n",
       "        text-align: right;\n",
       "    }\n",
       "</style>\n",
       "<table border=\"1\" class=\"dataframe\">\n",
       "  <thead>\n",
       "    <tr style=\"text-align: right;\">\n",
       "      <th></th>\n",
       "      <th>cust_id</th>\n",
       "      <th>Account Tenure</th>\n",
       "      <th>Temporary Accounts Disconnected</th>\n",
       "      <th>Wireless Equipments Owned</th>\n",
       "      <th>Internet Connect Status</th>\n",
       "      <th>Voice Ticks</th>\n",
       "      <th>Social Positioning</th>\n",
       "      <th>Emails Opened</th>\n",
       "      <th>On-Demand Videos Watched</th>\n",
       "      <th>Median House Value</th>\n",
       "      <th>Billing issue IVR calls</th>\n",
       "      <th>Digital Equipments Owned</th>\n",
       "      <th>Duration News Channel Watched</th>\n",
       "      <th>Tenure for Video Prodect</th>\n",
       "      <th>DVD- HR Owned</th>\n",
       "      <th>Video Products Tickets</th>\n",
       "      <th>Spanish Video Package</th>\n",
       "      <th>Trades Delinquent</th>\n",
       "      <th>Median Family Income</th>\n",
       "      <th>Use of Credit Card</th>\n",
       "      <th>Rmail Count</th>\n",
       "      <th>Enrollment</th>\n",
       "      <th>Tickets Raised</th>\n",
       "      <th>Monthly recurring charge</th>\n",
       "      <th>Video Product Calls</th>\n",
       "      <th>Unique Agent Handled</th>\n",
       "      <th>Sales Call Made</th>\n",
       "      <th>Active Account Offer</th>\n",
       "      <th>Top Viewed Channels</th>\n",
       "      <th>Previous Account Status</th>\n",
       "      <th>Monthly Payment Mode</th>\n",
       "      <th>Scherp products Subscribed</th>\n",
       "      <th>Prefer direct mail</th>\n",
       "      <th>Dwelling Type</th>\n",
       "      <th>Hardcopy Statement</th>\n",
       "      <th>Self_Service_Platform</th>\n",
       "    </tr>\n",
       "  </thead>\n",
       "  <tbody>\n",
       "    <tr>\n",
       "      <th>0</th>\n",
       "      <td>100001</td>\n",
       "      <td>2667</td>\n",
       "      <td>0</td>\n",
       "      <td>0</td>\n",
       "      <td>1768</td>\n",
       "      <td>0</td>\n",
       "      <td>4</td>\n",
       "      <td>0</td>\n",
       "      <td>2</td>\n",
       "      <td>291016</td>\n",
       "      <td>0</td>\n",
       "      <td>0</td>\n",
       "      <td>109</td>\n",
       "      <td>447</td>\n",
       "      <td>0</td>\n",
       "      <td>161</td>\n",
       "      <td>0</td>\n",
       "      <td>9</td>\n",
       "      <td>85287</td>\n",
       "      <td>27</td>\n",
       "      <td>0</td>\n",
       "      <td>0</td>\n",
       "      <td>4</td>\n",
       "      <td>153</td>\n",
       "      <td>0</td>\n",
       "      <td>0</td>\n",
       "      <td>0</td>\n",
       "      <td>0</td>\n",
       "      <td>5</td>\n",
       "      <td>2</td>\n",
       "      <td>2</td>\n",
       "      <td>9</td>\n",
       "      <td>0</td>\n",
       "      <td>4</td>\n",
       "      <td>0</td>\n",
       "      <td>Desktop</td>\n",
       "    </tr>\n",
       "    <tr>\n",
       "      <th>1</th>\n",
       "      <td>100002</td>\n",
       "      <td>435</td>\n",
       "      <td>0</td>\n",
       "      <td>0</td>\n",
       "      <td>515</td>\n",
       "      <td>0</td>\n",
       "      <td>3</td>\n",
       "      <td>0</td>\n",
       "      <td>0</td>\n",
       "      <td>137667</td>\n",
       "      <td>0</td>\n",
       "      <td>0</td>\n",
       "      <td>17</td>\n",
       "      <td>135</td>\n",
       "      <td>0</td>\n",
       "      <td>34</td>\n",
       "      <td>0</td>\n",
       "      <td>4</td>\n",
       "      <td>60868</td>\n",
       "      <td>4</td>\n",
       "      <td>0</td>\n",
       "      <td>0</td>\n",
       "      <td>1</td>\n",
       "      <td>74</td>\n",
       "      <td>0</td>\n",
       "      <td>0</td>\n",
       "      <td>0</td>\n",
       "      <td>0</td>\n",
       "      <td>5</td>\n",
       "      <td>3</td>\n",
       "      <td>2</td>\n",
       "      <td>7</td>\n",
       "      <td>0</td>\n",
       "      <td>4</td>\n",
       "      <td>0</td>\n",
       "      <td>Desktop</td>\n",
       "    </tr>\n",
       "    <tr>\n",
       "      <th>2</th>\n",
       "      <td>100003</td>\n",
       "      <td>1520</td>\n",
       "      <td>0</td>\n",
       "      <td>0</td>\n",
       "      <td>2280</td>\n",
       "      <td>0</td>\n",
       "      <td>6</td>\n",
       "      <td>0</td>\n",
       "      <td>4</td>\n",
       "      <td>301567</td>\n",
       "      <td>0</td>\n",
       "      <td>0</td>\n",
       "      <td>120</td>\n",
       "      <td>453</td>\n",
       "      <td>0</td>\n",
       "      <td>112</td>\n",
       "      <td>0</td>\n",
       "      <td>10</td>\n",
       "      <td>92324</td>\n",
       "      <td>26</td>\n",
       "      <td>0</td>\n",
       "      <td>0</td>\n",
       "      <td>5</td>\n",
       "      <td>133</td>\n",
       "      <td>0</td>\n",
       "      <td>0</td>\n",
       "      <td>0</td>\n",
       "      <td>0</td>\n",
       "      <td>5</td>\n",
       "      <td>2</td>\n",
       "      <td>2</td>\n",
       "      <td>9</td>\n",
       "      <td>0</td>\n",
       "      <td>4</td>\n",
       "      <td>1</td>\n",
       "      <td>Desktop</td>\n",
       "    </tr>\n",
       "    <tr>\n",
       "      <th>3</th>\n",
       "      <td>100004</td>\n",
       "      <td>4393</td>\n",
       "      <td>0</td>\n",
       "      <td>1</td>\n",
       "      <td>5731</td>\n",
       "      <td>0</td>\n",
       "      <td>8</td>\n",
       "      <td>1</td>\n",
       "      <td>27</td>\n",
       "      <td>436735</td>\n",
       "      <td>1</td>\n",
       "      <td>0</td>\n",
       "      <td>726</td>\n",
       "      <td>797</td>\n",
       "      <td>1</td>\n",
       "      <td>266</td>\n",
       "      <td>0</td>\n",
       "      <td>33</td>\n",
       "      <td>117785</td>\n",
       "      <td>71</td>\n",
       "      <td>20</td>\n",
       "      <td>0</td>\n",
       "      <td>11</td>\n",
       "      <td>208</td>\n",
       "      <td>8</td>\n",
       "      <td>10</td>\n",
       "      <td>0</td>\n",
       "      <td>1</td>\n",
       "      <td>5</td>\n",
       "      <td>0</td>\n",
       "      <td>2</td>\n",
       "      <td>1</td>\n",
       "      <td>0</td>\n",
       "      <td>4</td>\n",
       "      <td>0</td>\n",
       "      <td>Desktop</td>\n",
       "    </tr>\n",
       "    <tr>\n",
       "      <th>4</th>\n",
       "      <td>100005</td>\n",
       "      <td>3587</td>\n",
       "      <td>0</td>\n",
       "      <td>0</td>\n",
       "      <td>2493</td>\n",
       "      <td>0</td>\n",
       "      <td>7</td>\n",
       "      <td>0</td>\n",
       "      <td>7</td>\n",
       "      <td>314970</td>\n",
       "      <td>0</td>\n",
       "      <td>0</td>\n",
       "      <td>237</td>\n",
       "      <td>614</td>\n",
       "      <td>0</td>\n",
       "      <td>166</td>\n",
       "      <td>0</td>\n",
       "      <td>15</td>\n",
       "      <td>100083</td>\n",
       "      <td>46</td>\n",
       "      <td>33</td>\n",
       "      <td>0</td>\n",
       "      <td>6</td>\n",
       "      <td>155</td>\n",
       "      <td>0</td>\n",
       "      <td>1</td>\n",
       "      <td>0</td>\n",
       "      <td>0</td>\n",
       "      <td>2</td>\n",
       "      <td>3</td>\n",
       "      <td>2</td>\n",
       "      <td>1</td>\n",
       "      <td>0</td>\n",
       "      <td>2</td>\n",
       "      <td>0</td>\n",
       "      <td>STB</td>\n",
       "    </tr>\n",
       "  </tbody>\n",
       "</table>\n",
       "</div>"
      ],
      "text/plain": [
       "   cust_id  Account Tenure  Temporary Accounts Disconnected  \\\n",
       "0   100001            2667                                0   \n",
       "1   100002             435                                0   \n",
       "2   100003            1520                                0   \n",
       "3   100004            4393                                0   \n",
       "4   100005            3587                                0   \n",
       "\n",
       "   Wireless Equipments Owned  Internet Connect Status  Voice Ticks  \\\n",
       "0                          0                     1768            0   \n",
       "1                          0                      515            0   \n",
       "2                          0                     2280            0   \n",
       "3                          1                     5731            0   \n",
       "4                          0                     2493            0   \n",
       "\n",
       "   Social Positioning  Emails Opened  On-Demand Videos Watched  \\\n",
       "0                   4              0                         2   \n",
       "1                   3              0                         0   \n",
       "2                   6              0                         4   \n",
       "3                   8              1                        27   \n",
       "4                   7              0                         7   \n",
       "\n",
       "   Median House Value  Billing issue IVR calls  Digital Equipments Owned  \\\n",
       "0              291016                        0                         0   \n",
       "1              137667                        0                         0   \n",
       "2              301567                        0                         0   \n",
       "3              436735                        1                         0   \n",
       "4              314970                        0                         0   \n",
       "\n",
       "   Duration News Channel Watched  Tenure for Video Prodect  DVD- HR Owned  \\\n",
       "0                            109                       447              0   \n",
       "1                             17                       135              0   \n",
       "2                            120                       453              0   \n",
       "3                            726                       797              1   \n",
       "4                            237                       614              0   \n",
       "\n",
       "   Video Products Tickets  Spanish Video Package  Trades Delinquent  \\\n",
       "0                     161                      0                  9   \n",
       "1                      34                      0                  4   \n",
       "2                     112                      0                 10   \n",
       "3                     266                      0                 33   \n",
       "4                     166                      0                 15   \n",
       "\n",
       "   Median Family Income  Use of Credit Card  Rmail Count  Enrollment  \\\n",
       "0                 85287                  27            0           0   \n",
       "1                 60868                   4            0           0   \n",
       "2                 92324                  26            0           0   \n",
       "3                117785                  71           20           0   \n",
       "4                100083                  46           33           0   \n",
       "\n",
       "   Tickets Raised  Monthly recurring charge  Video Product Calls  \\\n",
       "0               4                       153                    0   \n",
       "1               1                        74                    0   \n",
       "2               5                       133                    0   \n",
       "3              11                       208                    8   \n",
       "4               6                       155                    0   \n",
       "\n",
       "   Unique Agent Handled  Sales Call Made  Active Account Offer  \\\n",
       "0                     0                0                     0   \n",
       "1                     0                0                     0   \n",
       "2                     0                0                     0   \n",
       "3                    10                0                     1   \n",
       "4                     1                0                     0   \n",
       "\n",
       "   Top Viewed Channels  Previous Account Status  Monthly Payment Mode  \\\n",
       "0                    5                        2                     2   \n",
       "1                    5                        3                     2   \n",
       "2                    5                        2                     2   \n",
       "3                    5                        0                     2   \n",
       "4                    2                        3                     2   \n",
       "\n",
       "    Scherp products Subscribed  Prefer direct mail  Dwelling Type  \\\n",
       "0                            9                   0              4   \n",
       "1                            7                   0              4   \n",
       "2                            9                   0              4   \n",
       "3                            1                   0              4   \n",
       "4                            1                   0              2   \n",
       "\n",
       "   Hardcopy Statement  Self_Service_Platform  \n",
       "0                    0               Desktop  \n",
       "1                    0               Desktop  \n",
       "2                    1               Desktop  \n",
       "3                    0               Desktop  \n",
       "4                    0                   STB  "
      ]
     },
     "execution_count": 21,
     "metadata": {},
     "output_type": "execute_result"
    }
   ],
   "source": [
    "train.head()"
   ]
  },
  {
   "cell_type": "code",
   "execution_count": 22,
   "metadata": {},
   "outputs": [
    {
     "data": {
      "image/png": "[encoded data removed]",
      "text/plain": [
       "<Figure size 576x432 with 1 Axes>"
      ]
     },
     "metadata": {
      "needs_background": "light"
     },
     "output_type": "display_data"
    }
   ],
   "source": [
    "# Countplot\n",
    "plt.figure(figsize=(8,6))\n",
    "ax=plt.axes()\n",
    "sns.countplot(train['Self_Service_Platform'])\n",
    "plt.title('Distribution of Self Service Platforms')\n",
    "ax.set_facecolor('whitesmoke')\n",
    "plt.savefig('count.png')"
   ]
  },
  {
   "cell_type": "code",
   "execution_count": 23,
   "metadata": {},
   "outputs": [],
   "source": [
    "train.drop('cust_id',axis=1,inplace=True)"
   ]
  },
  {
   "cell_type": "code",
   "execution_count": 24,
   "metadata": {},
   "outputs": [],
   "source": [
    "from sklearn.feature_selection import SelectKBest\n",
    "from sklearn.feature_selection import chi2"
   ]
  },
  {
   "cell_type": "code",
   "execution_count": 25,
   "metadata": {},
   "outputs": [],
   "source": [
    "X=train.drop('Self_Service_Platform',axis=1)\n",
    "y=train['Self_Service_Platform']"
   ]
  },
  {
   "cell_type": "markdown",
   "metadata": {},
   "source": [
    "# Feature Engineering"
   ]
  },
  {
   "cell_type": "code",
   "execution_count": 26,
   "metadata": {},
   "outputs": [
    {
     "name": "stdout",
     "output_type": "stream",
     "text": [
      "                           Features         Score\n",
      "8                Median House Value  2.384690e+10\n",
      "17             Median Family Income  1.560318e+10\n",
      "3           Internet Connect Status  8.736955e+07\n",
      "0                    Account Tenure  1.442875e+07\n",
      "11    Duration News Channel Watched  3.021582e+06\n",
      "22         Monthly recurring charge  1.215185e+06\n",
      "21                   Tickets Raised  8.399311e+05\n",
      "14           Video Products Tickets  6.323093e+05\n",
      "7          On-Demand Videos Watched  6.028912e+05\n",
      "9           Billing issue IVR calls  1.866519e+05\n",
      "16                Trades Delinquent  1.190024e+05\n",
      "12         Tenure for Video Prodect  6.164352e+04\n",
      "1   Temporary Accounts Disconnected  6.040540e+04\n",
      "18               Use of Credit Card  5.888445e+04\n",
      "24             Unique Agent Handled  4.249059e+04\n"
     ]
    }
   ],
   "source": [
    "# Apply SelectKBest class to extract top 15 best features\n",
    "bestfeatures = SelectKBest(score_func=chi2, k=15)\n",
    "fit = bestfeatures.fit(X,y)\n",
    "dfscores = pd.DataFrame(fit.scores_)\n",
    "dfcolumns = pd.DataFrame(X.columns)\n",
    "#concat two dataframes for better visualization \n",
    "featureScores = pd.concat([dfcolumns,dfscores],axis=1)\n",
    "featureScores.columns = ['Features','Score']  #naming the dataframe columns\n",
    "print(featureScores.nlargest(15,'Score'))  #print 15 best features"
   ]
  },
  {
   "cell_type": "code",
   "execution_count": 27,
   "metadata": {},
   "outputs": [],
   "source": [
    "from sklearn.linear_model import LogisticRegression\n",
    "from sklearn import metrics\n",
    "from sklearn.metrics import confusion_matrix\n",
    "from sklearn.metrics import classification_report \n",
    "from sklearn.model_selection import cross_val_score\n",
    "from sklearn.model_selection import GridSearchCV"
   ]
  },
  {
   "cell_type": "code",
   "execution_count": 28,
   "metadata": {},
   "outputs": [
    {
     "name": "stdout",
     "output_type": "stream",
     "text": [
      "X_train shape: (225000, 34)\n",
      "X_test shape: (75000, 34)\n",
      "y_train shape: (225000,)\n",
      "y_test shape: (75000,)\n"
     ]
    }
   ],
   "source": [
    "from sklearn.model_selection import train_test_split\n",
    "X_train,X_test,y_train,y_test=train_test_split(X,y,test_size=0.25,random_state=0)\n",
    "print(\"X_train shape: \"+str(X_train.shape))\n",
    "print(\"X_test shape: \"+str(X_test.shape))\n",
    "print(\"y_train shape: \"+str(y_train.shape))\n",
    "print(\"y_test shape: \"+str(y_test.shape))"
   ]
  },
  {
   "cell_type": "code",
   "execution_count": 29,
   "metadata": {},
   "outputs": [
    {
     "name": "stdout",
     "output_type": "stream",
     "text": [
      "8                  Median House Value\n",
      "17               Median Family Income\n",
      "3             Internet Connect Status\n",
      "0                      Account Tenure\n",
      "11      Duration News Channel Watched\n",
      "22           Monthly recurring charge\n",
      "21                     Tickets Raised\n",
      "14             Video Products Tickets\n",
      "7            On-Demand Videos Watched\n",
      "9             Billing issue IVR calls\n",
      "16                  Trades Delinquent\n",
      "12           Tenure for Video Prodect\n",
      "1     Temporary Accounts Disconnected\n",
      "18                 Use of Credit Card\n",
      "24               Unique Agent Handled\n",
      "Name: Features, dtype: object\n"
     ]
    }
   ],
   "source": [
    "print(featureScores.nlargest(15,'Score')['Features'])"
   ]
  },
  {
   "cell_type": "code",
   "execution_count": 30,
   "metadata": {},
   "outputs": [],
   "source": [
    "from sklearn.neighbors import KNeighborsClassifier\n",
    "from sklearn import metrics\n",
    "from sklearn.metrics import confusion_matrix\n",
    "from sklearn.metrics import classification_report \n",
    "from sklearn.metrics import f1_score\n",
    "from sklearn.model_selection import cross_val_score\n",
    "from sklearn.metrics import roc_curve,auc\n",
    "from sklearn.model_selection import GridSearchCV\n",
    "from sklearn.svm import SVC\n",
    "from sklearn.tree import DecisionTreeClassifier\n",
    "from sklearn.ensemble import RandomForestClassifier"
   ]
  },
  {
   "cell_type": "code",
   "execution_count": 31,
   "metadata": {},
   "outputs": [
    {
     "data": {
      "text/plain": [
       "DecisionTreeClassifier(class_weight=None, criterion='gini', max_depth=9,\n",
       "            max_features=None, max_leaf_nodes=None,\n",
       "            min_impurity_decrease=0.0, min_impurity_split=None,\n",
       "            min_samples_leaf=1, min_samples_split=2,\n",
       "            min_weight_fraction_leaf=0.0, presort=False, random_state=None,\n",
       "            splitter='best')"
      ]
     },
     "execution_count": 31,
     "metadata": {},
     "output_type": "execute_result"
    }
   ],
   "source": [
    "dt1=DecisionTreeClassifier(max_depth=9)\n",
    "dt1.fit(X_train,y_train)"
   ]
  },
  {
   "cell_type": "code",
   "execution_count": 32,
   "metadata": {},
   "outputs": [],
   "source": [
    "importance=dt1.feature_importances_"
   ]
  },
  {
   "cell_type": "code",
   "execution_count": 33,
   "metadata": {},
   "outputs": [
    {
     "name": "stdout",
     "output_type": "stream",
     "text": [
      "                                 Importance\n",
      "Account Tenure                     0.299154\n",
      "Wireless Equipments Owned          0.153926\n",
      "Active Account Offer               0.095643\n",
      "Trades Delinquent                  0.076718\n",
      "Social Positioning                 0.068748\n",
      "Video Product Calls                0.054789\n",
      "Median Family Income               0.048354\n",
      "Monthly recurring charge           0.041706\n",
      "Billing issue IVR calls            0.033524\n",
      "Internet Connect Status            0.028956\n",
      "Tickets Raised                     0.017789\n",
      "Use of Credit Card                 0.014724\n",
      "Tenure for Video Prodect           0.011450\n",
      "Digital Equipments Owned           0.011428\n",
      "Video Products Tickets             0.011368\n",
      "Emails Opened                      0.007632\n",
      "Median House Value                 0.006131\n",
      "Duration News Channel Watched      0.006022\n",
      "Temporary Accounts Disconnected    0.004503\n",
      "On-Demand Videos Watched           0.002131\n",
      "Rmail Count                        0.001246\n",
      "Voice Ticks                        0.001168\n",
      "Unique Agent Handled               0.000838\n",
      "Previous Account Status            0.000441\n",
      "Top Viewed Channels                0.000420\n",
      " Scherp products Subscribed        0.000324\n",
      "Sales Call Made                    0.000251\n",
      "Monthly Payment Mode               0.000231\n",
      "DVD- HR Owned                      0.000131\n",
      "Hardcopy Statement                 0.000127\n",
      "Spanish Video Package              0.000088\n",
      "Dwelling Type                      0.000042\n",
      "Prefer direct mail                 0.000000\n",
      "Enrollment                         0.000000\n"
     ]
    }
   ],
   "source": [
    "col=X.columns\n",
    "new=pd.DataFrame({'Importance': importance},index=col)\n",
    "print(new.sort_values(by='Importance',ascending=False))\n",
    "new.rename({'Rmail Count': 'Email Count'}, axis='index',inplace=True)"
   ]
  },
  {
   "cell_type": "markdown",
   "metadata": {},
   "source": [
    "## Feature Selection Chart"
   ]
  },
  {
   "cell_type": "code",
   "execution_count": 34,
   "metadata": {},
   "outputs": [
    {
     "data": {
      "image/png": "[encoded data removed]",
      "text/plain": [
       "<Figure size 936x648 with 1 Axes>"
      ]
     },
     "metadata": {
      "needs_background": "light"
     },
     "output_type": "display_data"
    }
   ],
   "source": [
    "from matplotlib import rcParams\n",
    "rcParams.update({'figure.autolayout': True})\n",
    "plt.figure(figsize=(13,9))\n",
    "new['Importance'].sort_values().plot(kind='barh')\n",
    "plt.title('Feature Importance Chart')\n",
    "ax=plt.axes()\n",
    "ax.set_facecolor('whitesmoke')\n",
    "plt.savefig('feature_importance.png')"
   ]
  },
  {
   "cell_type": "code",
   "execution_count": 35,
   "metadata": {},
   "outputs": [
    {
     "data": {
      "text/html": [
       "<div>\n",
       "<style scoped>\n",
       "    .dataframe tbody tr th:only-of-type {\n",
       "        vertical-align: middle;\n",
       "    }\n",
       "\n",
       "    .dataframe tbody tr th {\n",
       "        vertical-align: top;\n",
       "    }\n",
       "\n",
       "    .dataframe thead th {\n",
       "        text-align: right;\n",
       "    }\n",
       "</style>\n",
       "<table border=\"1\" class=\"dataframe\">\n",
       "  <thead>\n",
       "    <tr style=\"text-align: right;\">\n",
       "      <th></th>\n",
       "      <th>Account Tenure</th>\n",
       "      <th>Temporary Accounts Disconnected</th>\n",
       "      <th>Wireless Equipments Owned</th>\n",
       "      <th>Internet Connect Status</th>\n",
       "      <th>Voice Ticks</th>\n",
       "      <th>Social Positioning</th>\n",
       "      <th>Emails Opened</th>\n",
       "      <th>On-Demand Videos Watched</th>\n",
       "      <th>Median House Value</th>\n",
       "      <th>Billing issue IVR calls</th>\n",
       "      <th>Digital Equipments Owned</th>\n",
       "      <th>Duration News Channel Watched</th>\n",
       "      <th>Tenure for Video Prodect</th>\n",
       "      <th>DVD- HR Owned</th>\n",
       "      <th>Video Products Tickets</th>\n",
       "      <th>Spanish Video Package</th>\n",
       "      <th>Trades Delinquent</th>\n",
       "      <th>Median Family Income</th>\n",
       "      <th>Use of Credit Card</th>\n",
       "      <th>Rmail Count</th>\n",
       "      <th>Enrollment</th>\n",
       "      <th>Tickets Raised</th>\n",
       "      <th>Monthly recurring charge</th>\n",
       "      <th>Video Product Calls</th>\n",
       "      <th>Unique Agent Handled</th>\n",
       "      <th>Sales Call Made</th>\n",
       "      <th>Active Account Offer</th>\n",
       "      <th>Top Viewed Channels</th>\n",
       "      <th>Previous Account Status</th>\n",
       "      <th>Monthly Payment Mode</th>\n",
       "      <th>Scherp products Subscribed</th>\n",
       "      <th>Prefer direct mail</th>\n",
       "      <th>Dwelling Type</th>\n",
       "      <th>Hardcopy Statement</th>\n",
       "      <th>Self_Service_Platform</th>\n",
       "    </tr>\n",
       "  </thead>\n",
       "  <tbody>\n",
       "    <tr>\n",
       "      <th>0</th>\n",
       "      <td>2667</td>\n",
       "      <td>0</td>\n",
       "      <td>0</td>\n",
       "      <td>1768</td>\n",
       "      <td>0</td>\n",
       "      <td>4</td>\n",
       "      <td>0</td>\n",
       "      <td>2</td>\n",
       "      <td>291016</td>\n",
       "      <td>0</td>\n",
       "      <td>0</td>\n",
       "      <td>109</td>\n",
       "      <td>447</td>\n",
       "      <td>0</td>\n",
       "      <td>161</td>\n",
       "      <td>0</td>\n",
       "      <td>9</td>\n",
       "      <td>85287</td>\n",
       "      <td>27</td>\n",
       "      <td>0</td>\n",
       "      <td>0</td>\n",
       "      <td>4</td>\n",
       "      <td>153</td>\n",
       "      <td>0</td>\n",
       "      <td>0</td>\n",
       "      <td>0</td>\n",
       "      <td>0</td>\n",
       "      <td>5</td>\n",
       "      <td>2</td>\n",
       "      <td>2</td>\n",
       "      <td>9</td>\n",
       "      <td>0</td>\n",
       "      <td>4</td>\n",
       "      <td>0</td>\n",
       "      <td>Desktop</td>\n",
       "    </tr>\n",
       "    <tr>\n",
       "      <th>1</th>\n",
       "      <td>435</td>\n",
       "      <td>0</td>\n",
       "      <td>0</td>\n",
       "      <td>515</td>\n",
       "      <td>0</td>\n",
       "      <td>3</td>\n",
       "      <td>0</td>\n",
       "      <td>0</td>\n",
       "      <td>137667</td>\n",
       "      <td>0</td>\n",
       "      <td>0</td>\n",
       "      <td>17</td>\n",
       "      <td>135</td>\n",
       "      <td>0</td>\n",
       "      <td>34</td>\n",
       "      <td>0</td>\n",
       "      <td>4</td>\n",
       "      <td>60868</td>\n",
       "      <td>4</td>\n",
       "      <td>0</td>\n",
       "      <td>0</td>\n",
       "      <td>1</td>\n",
       "      <td>74</td>\n",
       "      <td>0</td>\n",
       "      <td>0</td>\n",
       "      <td>0</td>\n",
       "      <td>0</td>\n",
       "      <td>5</td>\n",
       "      <td>3</td>\n",
       "      <td>2</td>\n",
       "      <td>7</td>\n",
       "      <td>0</td>\n",
       "      <td>4</td>\n",
       "      <td>0</td>\n",
       "      <td>Desktop</td>\n",
       "    </tr>\n",
       "    <tr>\n",
       "      <th>2</th>\n",
       "      <td>1520</td>\n",
       "      <td>0</td>\n",
       "      <td>0</td>\n",
       "      <td>2280</td>\n",
       "      <td>0</td>\n",
       "      <td>6</td>\n",
       "      <td>0</td>\n",
       "      <td>4</td>\n",
       "      <td>301567</td>\n",
       "      <td>0</td>\n",
       "      <td>0</td>\n",
       "      <td>120</td>\n",
       "      <td>453</td>\n",
       "      <td>0</td>\n",
       "      <td>112</td>\n",
       "      <td>0</td>\n",
       "      <td>10</td>\n",
       "      <td>92324</td>\n",
       "      <td>26</td>\n",
       "      <td>0</td>\n",
       "      <td>0</td>\n",
       "      <td>5</td>\n",
       "      <td>133</td>\n",
       "      <td>0</td>\n",
       "      <td>0</td>\n",
       "      <td>0</td>\n",
       "      <td>0</td>\n",
       "      <td>5</td>\n",
       "      <td>2</td>\n",
       "      <td>2</td>\n",
       "      <td>9</td>\n",
       "      <td>0</td>\n",
       "      <td>4</td>\n",
       "      <td>1</td>\n",
       "      <td>Desktop</td>\n",
       "    </tr>\n",
       "    <tr>\n",
       "      <th>3</th>\n",
       "      <td>4393</td>\n",
       "      <td>0</td>\n",
       "      <td>1</td>\n",
       "      <td>5731</td>\n",
       "      <td>0</td>\n",
       "      <td>8</td>\n",
       "      <td>1</td>\n",
       "      <td>27</td>\n",
       "      <td>436735</td>\n",
       "      <td>1</td>\n",
       "      <td>0</td>\n",
       "      <td>726</td>\n",
       "      <td>797</td>\n",
       "      <td>1</td>\n",
       "      <td>266</td>\n",
       "      <td>0</td>\n",
       "      <td>33</td>\n",
       "      <td>117785</td>\n",
       "      <td>71</td>\n",
       "      <td>20</td>\n",
       "      <td>0</td>\n",
       "      <td>11</td>\n",
       "      <td>208</td>\n",
       "      <td>8</td>\n",
       "      <td>10</td>\n",
       "      <td>0</td>\n",
       "      <td>1</td>\n",
       "      <td>5</td>\n",
       "      <td>0</td>\n",
       "      <td>2</td>\n",
       "      <td>1</td>\n",
       "      <td>0</td>\n",
       "      <td>4</td>\n",
       "      <td>0</td>\n",
       "      <td>Desktop</td>\n",
       "    </tr>\n",
       "    <tr>\n",
       "      <th>4</th>\n",
       "      <td>3587</td>\n",
       "      <td>0</td>\n",
       "      <td>0</td>\n",
       "      <td>2493</td>\n",
       "      <td>0</td>\n",
       "      <td>7</td>\n",
       "      <td>0</td>\n",
       "      <td>7</td>\n",
       "      <td>314970</td>\n",
       "      <td>0</td>\n",
       "      <td>0</td>\n",
       "      <td>237</td>\n",
       "      <td>614</td>\n",
       "      <td>0</td>\n",
       "      <td>166</td>\n",
       "      <td>0</td>\n",
       "      <td>15</td>\n",
       "      <td>100083</td>\n",
       "      <td>46</td>\n",
       "      <td>33</td>\n",
       "      <td>0</td>\n",
       "      <td>6</td>\n",
       "      <td>155</td>\n",
       "      <td>0</td>\n",
       "      <td>1</td>\n",
       "      <td>0</td>\n",
       "      <td>0</td>\n",
       "      <td>2</td>\n",
       "      <td>3</td>\n",
       "      <td>2</td>\n",
       "      <td>1</td>\n",
       "      <td>0</td>\n",
       "      <td>2</td>\n",
       "      <td>0</td>\n",
       "      <td>STB</td>\n",
       "    </tr>\n",
       "    <tr>\n",
       "      <th>5</th>\n",
       "      <td>1071</td>\n",
       "      <td>0</td>\n",
       "      <td>1</td>\n",
       "      <td>6840</td>\n",
       "      <td>0</td>\n",
       "      <td>8</td>\n",
       "      <td>0</td>\n",
       "      <td>33</td>\n",
       "      <td>345363</td>\n",
       "      <td>1</td>\n",
       "      <td>0</td>\n",
       "      <td>655</td>\n",
       "      <td>694</td>\n",
       "      <td>1</td>\n",
       "      <td>159</td>\n",
       "      <td>0</td>\n",
       "      <td>45</td>\n",
       "      <td>89112</td>\n",
       "      <td>78</td>\n",
       "      <td>7</td>\n",
       "      <td>0</td>\n",
       "      <td>18</td>\n",
       "      <td>186</td>\n",
       "      <td>11</td>\n",
       "      <td>10</td>\n",
       "      <td>0</td>\n",
       "      <td>1</td>\n",
       "      <td>5</td>\n",
       "      <td>0</td>\n",
       "      <td>2</td>\n",
       "      <td>3</td>\n",
       "      <td>1</td>\n",
       "      <td>4</td>\n",
       "      <td>1</td>\n",
       "      <td>Mobile App</td>\n",
       "    </tr>\n",
       "    <tr>\n",
       "      <th>6</th>\n",
       "      <td>3079</td>\n",
       "      <td>0</td>\n",
       "      <td>0</td>\n",
       "      <td>3105</td>\n",
       "      <td>0</td>\n",
       "      <td>7</td>\n",
       "      <td>0</td>\n",
       "      <td>7</td>\n",
       "      <td>331691</td>\n",
       "      <td>0</td>\n",
       "      <td>0</td>\n",
       "      <td>268</td>\n",
       "      <td>614</td>\n",
       "      <td>0</td>\n",
       "      <td>191</td>\n",
       "      <td>0</td>\n",
       "      <td>19</td>\n",
       "      <td>103460</td>\n",
       "      <td>47</td>\n",
       "      <td>30</td>\n",
       "      <td>0</td>\n",
       "      <td>6</td>\n",
       "      <td>169</td>\n",
       "      <td>0</td>\n",
       "      <td>2</td>\n",
       "      <td>0</td>\n",
       "      <td>0</td>\n",
       "      <td>5</td>\n",
       "      <td>3</td>\n",
       "      <td>2</td>\n",
       "      <td>9</td>\n",
       "      <td>0</td>\n",
       "      <td>1</td>\n",
       "      <td>0</td>\n",
       "      <td>Desktop</td>\n",
       "    </tr>\n",
       "    <tr>\n",
       "      <th>7</th>\n",
       "      <td>1529</td>\n",
       "      <td>0</td>\n",
       "      <td>1</td>\n",
       "      <td>7506</td>\n",
       "      <td>1</td>\n",
       "      <td>3</td>\n",
       "      <td>0</td>\n",
       "      <td>53</td>\n",
       "      <td>244942</td>\n",
       "      <td>11</td>\n",
       "      <td>0</td>\n",
       "      <td>772</td>\n",
       "      <td>646</td>\n",
       "      <td>1</td>\n",
       "      <td>313</td>\n",
       "      <td>0</td>\n",
       "      <td>29</td>\n",
       "      <td>71513</td>\n",
       "      <td>69</td>\n",
       "      <td>3</td>\n",
       "      <td>0</td>\n",
       "      <td>8</td>\n",
       "      <td>209</td>\n",
       "      <td>9</td>\n",
       "      <td>11</td>\n",
       "      <td>0</td>\n",
       "      <td>1</td>\n",
       "      <td>5</td>\n",
       "      <td>4</td>\n",
       "      <td>2</td>\n",
       "      <td>7</td>\n",
       "      <td>0</td>\n",
       "      <td>4</td>\n",
       "      <td>1</td>\n",
       "      <td>STB</td>\n",
       "    </tr>\n",
       "    <tr>\n",
       "      <th>8</th>\n",
       "      <td>95</td>\n",
       "      <td>0</td>\n",
       "      <td>0</td>\n",
       "      <td>84</td>\n",
       "      <td>0</td>\n",
       "      <td>0</td>\n",
       "      <td>0</td>\n",
       "      <td>0</td>\n",
       "      <td>60845</td>\n",
       "      <td>0</td>\n",
       "      <td>0</td>\n",
       "      <td>0</td>\n",
       "      <td>25</td>\n",
       "      <td>0</td>\n",
       "      <td>2</td>\n",
       "      <td>0</td>\n",
       "      <td>0</td>\n",
       "      <td>26467</td>\n",
       "      <td>0</td>\n",
       "      <td>0</td>\n",
       "      <td>0</td>\n",
       "      <td>1</td>\n",
       "      <td>33</td>\n",
       "      <td>0</td>\n",
       "      <td>0</td>\n",
       "      <td>0</td>\n",
       "      <td>0</td>\n",
       "      <td>0</td>\n",
       "      <td>4</td>\n",
       "      <td>2</td>\n",
       "      <td>7</td>\n",
       "      <td>0</td>\n",
       "      <td>4</td>\n",
       "      <td>0</td>\n",
       "      <td>Mobile App</td>\n",
       "    </tr>\n",
       "    <tr>\n",
       "      <th>9</th>\n",
       "      <td>7784</td>\n",
       "      <td>0</td>\n",
       "      <td>1</td>\n",
       "      <td>5899</td>\n",
       "      <td>1</td>\n",
       "      <td>9</td>\n",
       "      <td>2</td>\n",
       "      <td>30</td>\n",
       "      <td>507727</td>\n",
       "      <td>1</td>\n",
       "      <td>0</td>\n",
       "      <td>965</td>\n",
       "      <td>983</td>\n",
       "      <td>1</td>\n",
       "      <td>353</td>\n",
       "      <td>0</td>\n",
       "      <td>35</td>\n",
       "      <td>134331</td>\n",
       "      <td>75</td>\n",
       "      <td>21</td>\n",
       "      <td>0</td>\n",
       "      <td>14</td>\n",
       "      <td>215</td>\n",
       "      <td>10</td>\n",
       "      <td>10</td>\n",
       "      <td>0</td>\n",
       "      <td>1</td>\n",
       "      <td>5</td>\n",
       "      <td>4</td>\n",
       "      <td>2</td>\n",
       "      <td>7</td>\n",
       "      <td>0</td>\n",
       "      <td>4</td>\n",
       "      <td>0</td>\n",
       "      <td>Desktop</td>\n",
       "    </tr>\n",
       "    <tr>\n",
       "      <th>10</th>\n",
       "      <td>3536</td>\n",
       "      <td>0</td>\n",
       "      <td>0</td>\n",
       "      <td>2466</td>\n",
       "      <td>0</td>\n",
       "      <td>7</td>\n",
       "      <td>0</td>\n",
       "      <td>5</td>\n",
       "      <td>320887</td>\n",
       "      <td>0</td>\n",
       "      <td>0</td>\n",
       "      <td>282</td>\n",
       "      <td>587</td>\n",
       "      <td>0</td>\n",
       "      <td>189</td>\n",
       "      <td>0</td>\n",
       "      <td>18</td>\n",
       "      <td>98695</td>\n",
       "      <td>45</td>\n",
       "      <td>42</td>\n",
       "      <td>0</td>\n",
       "      <td>6</td>\n",
       "      <td>161</td>\n",
       "      <td>2</td>\n",
       "      <td>0</td>\n",
       "      <td>0</td>\n",
       "      <td>0</td>\n",
       "      <td>5</td>\n",
       "      <td>0</td>\n",
       "      <td>2</td>\n",
       "      <td>9</td>\n",
       "      <td>0</td>\n",
       "      <td>4</td>\n",
       "      <td>1</td>\n",
       "      <td>Desktop</td>\n",
       "    </tr>\n",
       "    <tr>\n",
       "      <th>11</th>\n",
       "      <td>71</td>\n",
       "      <td>0</td>\n",
       "      <td>0</td>\n",
       "      <td>32</td>\n",
       "      <td>0</td>\n",
       "      <td>0</td>\n",
       "      <td>0</td>\n",
       "      <td>0</td>\n",
       "      <td>86082</td>\n",
       "      <td>0</td>\n",
       "      <td>0</td>\n",
       "      <td>0</td>\n",
       "      <td>28</td>\n",
       "      <td>0</td>\n",
       "      <td>7</td>\n",
       "      <td>0</td>\n",
       "      <td>0</td>\n",
       "      <td>27402</td>\n",
       "      <td>0</td>\n",
       "      <td>0</td>\n",
       "      <td>0</td>\n",
       "      <td>1</td>\n",
       "      <td>45</td>\n",
       "      <td>0</td>\n",
       "      <td>0</td>\n",
       "      <td>0</td>\n",
       "      <td>0</td>\n",
       "      <td>5</td>\n",
       "      <td>3</td>\n",
       "      <td>2</td>\n",
       "      <td>7</td>\n",
       "      <td>0</td>\n",
       "      <td>4</td>\n",
       "      <td>0</td>\n",
       "      <td>Desktop</td>\n",
       "    </tr>\n",
       "    <tr>\n",
       "      <th>12</th>\n",
       "      <td>69</td>\n",
       "      <td>0</td>\n",
       "      <td>0</td>\n",
       "      <td>32</td>\n",
       "      <td>0</td>\n",
       "      <td>0</td>\n",
       "      <td>0</td>\n",
       "      <td>0</td>\n",
       "      <td>87897</td>\n",
       "      <td>0</td>\n",
       "      <td>0</td>\n",
       "      <td>0</td>\n",
       "      <td>30</td>\n",
       "      <td>0</td>\n",
       "      <td>8</td>\n",
       "      <td>0</td>\n",
       "      <td>0</td>\n",
       "      <td>32702</td>\n",
       "      <td>0</td>\n",
       "      <td>0</td>\n",
       "      <td>0</td>\n",
       "      <td>1</td>\n",
       "      <td>36</td>\n",
       "      <td>0</td>\n",
       "      <td>0</td>\n",
       "      <td>0</td>\n",
       "      <td>0</td>\n",
       "      <td>5</td>\n",
       "      <td>3</td>\n",
       "      <td>0</td>\n",
       "      <td>9</td>\n",
       "      <td>0</td>\n",
       "      <td>2</td>\n",
       "      <td>0</td>\n",
       "      <td>Desktop</td>\n",
       "    </tr>\n",
       "    <tr>\n",
       "      <th>13</th>\n",
       "      <td>4585</td>\n",
       "      <td>1</td>\n",
       "      <td>3</td>\n",
       "      <td>78096</td>\n",
       "      <td>5</td>\n",
       "      <td>8</td>\n",
       "      <td>8</td>\n",
       "      <td>166</td>\n",
       "      <td>1863205</td>\n",
       "      <td>33</td>\n",
       "      <td>3</td>\n",
       "      <td>7599</td>\n",
       "      <td>1257</td>\n",
       "      <td>5</td>\n",
       "      <td>3645</td>\n",
       "      <td>1</td>\n",
       "      <td>72</td>\n",
       "      <td>151866</td>\n",
       "      <td>94</td>\n",
       "      <td>117</td>\n",
       "      <td>1</td>\n",
       "      <td>81</td>\n",
       "      <td>322</td>\n",
       "      <td>288</td>\n",
       "      <td>203</td>\n",
       "      <td>0</td>\n",
       "      <td>1</td>\n",
       "      <td>5</td>\n",
       "      <td>4</td>\n",
       "      <td>2</td>\n",
       "      <td>9</td>\n",
       "      <td>0</td>\n",
       "      <td>4</td>\n",
       "      <td>1</td>\n",
       "      <td>STB</td>\n",
       "    </tr>\n",
       "    <tr>\n",
       "      <th>14</th>\n",
       "      <td>1192</td>\n",
       "      <td>0</td>\n",
       "      <td>1</td>\n",
       "      <td>8652</td>\n",
       "      <td>0</td>\n",
       "      <td>8</td>\n",
       "      <td>0</td>\n",
       "      <td>11</td>\n",
       "      <td>328774</td>\n",
       "      <td>1</td>\n",
       "      <td>0</td>\n",
       "      <td>527</td>\n",
       "      <td>743</td>\n",
       "      <td>0</td>\n",
       "      <td>117</td>\n",
       "      <td>0</td>\n",
       "      <td>37</td>\n",
       "      <td>75854</td>\n",
       "      <td>84</td>\n",
       "      <td>8</td>\n",
       "      <td>0</td>\n",
       "      <td>16</td>\n",
       "      <td>138</td>\n",
       "      <td>8</td>\n",
       "      <td>11</td>\n",
       "      <td>0</td>\n",
       "      <td>1</td>\n",
       "      <td>5</td>\n",
       "      <td>4</td>\n",
       "      <td>2</td>\n",
       "      <td>7</td>\n",
       "      <td>0</td>\n",
       "      <td>4</td>\n",
       "      <td>0</td>\n",
       "      <td>Mobile App</td>\n",
       "    </tr>\n",
       "    <tr>\n",
       "      <th>15</th>\n",
       "      <td>180</td>\n",
       "      <td>0</td>\n",
       "      <td>0</td>\n",
       "      <td>77</td>\n",
       "      <td>0</td>\n",
       "      <td>0</td>\n",
       "      <td>0</td>\n",
       "      <td>0</td>\n",
       "      <td>109800</td>\n",
       "      <td>0</td>\n",
       "      <td>0</td>\n",
       "      <td>0</td>\n",
       "      <td>80</td>\n",
       "      <td>0</td>\n",
       "      <td>23</td>\n",
       "      <td>0</td>\n",
       "      <td>0</td>\n",
       "      <td>45904</td>\n",
       "      <td>1</td>\n",
       "      <td>0</td>\n",
       "      <td>0</td>\n",
       "      <td>1</td>\n",
       "      <td>49</td>\n",
       "      <td>0</td>\n",
       "      <td>0</td>\n",
       "      <td>0</td>\n",
       "      <td>0</td>\n",
       "      <td>5</td>\n",
       "      <td>3</td>\n",
       "      <td>2</td>\n",
       "      <td>7</td>\n",
       "      <td>0</td>\n",
       "      <td>4</td>\n",
       "      <td>1</td>\n",
       "      <td>Desktop</td>\n",
       "    </tr>\n",
       "    <tr>\n",
       "      <th>16</th>\n",
       "      <td>292</td>\n",
       "      <td>0</td>\n",
       "      <td>0</td>\n",
       "      <td>540</td>\n",
       "      <td>0</td>\n",
       "      <td>2</td>\n",
       "      <td>0</td>\n",
       "      <td>0</td>\n",
       "      <td>120783</td>\n",
       "      <td>0</td>\n",
       "      <td>0</td>\n",
       "      <td>0</td>\n",
       "      <td>82</td>\n",
       "      <td>0</td>\n",
       "      <td>41</td>\n",
       "      <td>0</td>\n",
       "      <td>8</td>\n",
       "      <td>43367</td>\n",
       "      <td>26</td>\n",
       "      <td>0</td>\n",
       "      <td>0</td>\n",
       "      <td>3</td>\n",
       "      <td>65</td>\n",
       "      <td>0</td>\n",
       "      <td>0</td>\n",
       "      <td>0</td>\n",
       "      <td>0</td>\n",
       "      <td>5</td>\n",
       "      <td>4</td>\n",
       "      <td>2</td>\n",
       "      <td>7</td>\n",
       "      <td>0</td>\n",
       "      <td>2</td>\n",
       "      <td>1</td>\n",
       "      <td>Mobile App</td>\n",
       "    </tr>\n",
       "    <tr>\n",
       "      <th>17</th>\n",
       "      <td>3788</td>\n",
       "      <td>0</td>\n",
       "      <td>1</td>\n",
       "      <td>3550</td>\n",
       "      <td>0</td>\n",
       "      <td>8</td>\n",
       "      <td>1</td>\n",
       "      <td>8</td>\n",
       "      <td>336772</td>\n",
       "      <td>1</td>\n",
       "      <td>0</td>\n",
       "      <td>343</td>\n",
       "      <td>648</td>\n",
       "      <td>0</td>\n",
       "      <td>207</td>\n",
       "      <td>0</td>\n",
       "      <td>21</td>\n",
       "      <td>106281</td>\n",
       "      <td>54</td>\n",
       "      <td>10</td>\n",
       "      <td>0</td>\n",
       "      <td>8</td>\n",
       "      <td>177</td>\n",
       "      <td>5</td>\n",
       "      <td>4</td>\n",
       "      <td>0</td>\n",
       "      <td>1</td>\n",
       "      <td>5</td>\n",
       "      <td>4</td>\n",
       "      <td>2</td>\n",
       "      <td>9</td>\n",
       "      <td>0</td>\n",
       "      <td>4</td>\n",
       "      <td>0</td>\n",
       "      <td>Desktop</td>\n",
       "    </tr>\n",
       "    <tr>\n",
       "      <th>18</th>\n",
       "      <td>2135</td>\n",
       "      <td>0</td>\n",
       "      <td>0</td>\n",
       "      <td>1961</td>\n",
       "      <td>0</td>\n",
       "      <td>6</td>\n",
       "      <td>0</td>\n",
       "      <td>5</td>\n",
       "      <td>302061</td>\n",
       "      <td>0</td>\n",
       "      <td>0</td>\n",
       "      <td>89</td>\n",
       "      <td>444</td>\n",
       "      <td>0</td>\n",
       "      <td>159</td>\n",
       "      <td>0</td>\n",
       "      <td>15</td>\n",
       "      <td>95149</td>\n",
       "      <td>26</td>\n",
       "      <td>1</td>\n",
       "      <td>0</td>\n",
       "      <td>5</td>\n",
       "      <td>111</td>\n",
       "      <td>0</td>\n",
       "      <td>0</td>\n",
       "      <td>0</td>\n",
       "      <td>0</td>\n",
       "      <td>0</td>\n",
       "      <td>4</td>\n",
       "      <td>1</td>\n",
       "      <td>7</td>\n",
       "      <td>0</td>\n",
       "      <td>4</td>\n",
       "      <td>0</td>\n",
       "      <td>Desktop</td>\n",
       "    </tr>\n",
       "    <tr>\n",
       "      <th>19</th>\n",
       "      <td>1537</td>\n",
       "      <td>0</td>\n",
       "      <td>1</td>\n",
       "      <td>5295</td>\n",
       "      <td>0</td>\n",
       "      <td>8</td>\n",
       "      <td>0</td>\n",
       "      <td>25</td>\n",
       "      <td>350713</td>\n",
       "      <td>1</td>\n",
       "      <td>0</td>\n",
       "      <td>231</td>\n",
       "      <td>514</td>\n",
       "      <td>0</td>\n",
       "      <td>153</td>\n",
       "      <td>0</td>\n",
       "      <td>38</td>\n",
       "      <td>93561</td>\n",
       "      <td>59</td>\n",
       "      <td>13</td>\n",
       "      <td>0</td>\n",
       "      <td>16</td>\n",
       "      <td>133</td>\n",
       "      <td>7</td>\n",
       "      <td>5</td>\n",
       "      <td>0</td>\n",
       "      <td>1</td>\n",
       "      <td>5</td>\n",
       "      <td>0</td>\n",
       "      <td>1</td>\n",
       "      <td>1</td>\n",
       "      <td>0</td>\n",
       "      <td>2</td>\n",
       "      <td>0</td>\n",
       "      <td>Mobile Web</td>\n",
       "    </tr>\n",
       "  </tbody>\n",
       "</table>\n",
       "</div>"
      ],
      "text/plain": [
       "    Account Tenure  Temporary Accounts Disconnected  \\\n",
       "0             2667                                0   \n",
       "1              435                                0   \n",
       "2             1520                                0   \n",
       "3             4393                                0   \n",
       "4             3587                                0   \n",
       "5             1071                                0   \n",
       "6             3079                                0   \n",
       "7             1529                                0   \n",
       "8               95                                0   \n",
       "9             7784                                0   \n",
       "10            3536                                0   \n",
       "11              71                                0   \n",
       "12              69                                0   \n",
       "13            4585                                1   \n",
       "14            1192                                0   \n",
       "15             180                                0   \n",
       "16             292                                0   \n",
       "17            3788                                0   \n",
       "18            2135                                0   \n",
       "19            1537                                0   \n",
       "\n",
       "    Wireless Equipments Owned  Internet Connect Status  Voice Ticks  \\\n",
       "0                           0                     1768            0   \n",
       "1                           0                      515            0   \n",
       "2                           0                     2280            0   \n",
       "3                           1                     5731            0   \n",
       "4                           0                     2493            0   \n",
       "5                           1                     6840            0   \n",
       "6                           0                     3105            0   \n",
       "7                           1                     7506            1   \n",
       "8                           0                       84            0   \n",
       "9                           1                     5899            1   \n",
       "10                          0                     2466            0   \n",
       "11                          0                       32            0   \n",
       "12                          0                       32            0   \n",
       "13                          3                    78096            5   \n",
       "14                          1                     8652            0   \n",
       "15                          0                       77            0   \n",
       "16                          0                      540            0   \n",
       "17                          1                     3550            0   \n",
       "18                          0                     1961            0   \n",
       "19                          1                     5295            0   \n",
       "\n",
       "    Social Positioning  Emails Opened  On-Demand Videos Watched  \\\n",
       "0                    4              0                         2   \n",
       "1                    3              0                         0   \n",
       "2                    6              0                         4   \n",
       "3                    8              1                        27   \n",
       "4                    7              0                         7   \n",
       "5                    8              0                        33   \n",
       "6                    7              0                         7   \n",
       "7                    3              0                        53   \n",
       "8                    0              0                         0   \n",
       "9                    9              2                        30   \n",
       "10                   7              0                         5   \n",
       "11                   0              0                         0   \n",
       "12                   0              0                         0   \n",
       "13                   8              8                       166   \n",
       "14                   8              0                        11   \n",
       "15                   0              0                         0   \n",
       "16                   2              0                         0   \n",
       "17                   8              1                         8   \n",
       "18                   6              0                         5   \n",
       "19                   8              0                        25   \n",
       "\n",
       "    Median House Value  Billing issue IVR calls  Digital Equipments Owned  \\\n",
       "0               291016                        0                         0   \n",
       "1               137667                        0                         0   \n",
       "2               301567                        0                         0   \n",
       "3               436735                        1                         0   \n",
       "4               314970                        0                         0   \n",
       "5               345363                        1                         0   \n",
       "6               331691                        0                         0   \n",
       "7               244942                       11                         0   \n",
       "8                60845                        0                         0   \n",
       "9               507727                        1                         0   \n",
       "10              320887                        0                         0   \n",
       "11               86082                        0                         0   \n",
       "12               87897                        0                         0   \n",
       "13             1863205                       33                         3   \n",
       "14              328774                        1                         0   \n",
       "15              109800                        0                         0   \n",
       "16              120783                        0                         0   \n",
       "17              336772                        1                         0   \n",
       "18              302061                        0                         0   \n",
       "19              350713                        1                         0   \n",
       "\n",
       "    Duration News Channel Watched  Tenure for Video Prodect  DVD- HR Owned  \\\n",
       "0                             109                       447              0   \n",
       "1                              17                       135              0   \n",
       "2                             120                       453              0   \n",
       "3                             726                       797              1   \n",
       "4                             237                       614              0   \n",
       "5                             655                       694              1   \n",
       "6                             268                       614              0   \n",
       "7                             772                       646              1   \n",
       "8                               0                        25              0   \n",
       "9                             965                       983              1   \n",
       "10                            282                       587              0   \n",
       "11                              0                        28              0   \n",
       "12                              0                        30              0   \n",
       "13                           7599                      1257              5   \n",
       "14                            527                       743              0   \n",
       "15                              0                        80              0   \n",
       "16                              0                        82              0   \n",
       "17                            343                       648              0   \n",
       "18                             89                       444              0   \n",
       "19                            231                       514              0   \n",
       "\n",
       "    Video Products Tickets  Spanish Video Package  Trades Delinquent  \\\n",
       "0                      161                      0                  9   \n",
       "1                       34                      0                  4   \n",
       "2                      112                      0                 10   \n",
       "3                      266                      0                 33   \n",
       "4                      166                      0                 15   \n",
       "5                      159                      0                 45   \n",
       "6                      191                      0                 19   \n",
       "7                      313                      0                 29   \n",
       "8                        2                      0                  0   \n",
       "9                      353                      0                 35   \n",
       "10                     189                      0                 18   \n",
       "11                       7                      0                  0   \n",
       "12                       8                      0                  0   \n",
       "13                    3645                      1                 72   \n",
       "14                     117                      0                 37   \n",
       "15                      23                      0                  0   \n",
       "16                      41                      0                  8   \n",
       "17                     207                      0                 21   \n",
       "18                     159                      0                 15   \n",
       "19                     153                      0                 38   \n",
       "\n",
       "    Median Family Income  Use of Credit Card  Rmail Count  Enrollment  \\\n",
       "0                  85287                  27            0           0   \n",
       "1                  60868                   4            0           0   \n",
       "2                  92324                  26            0           0   \n",
       "3                 117785                  71           20           0   \n",
       "4                 100083                  46           33           0   \n",
       "5                  89112                  78            7           0   \n",
       "6                 103460                  47           30           0   \n",
       "7                  71513                  69            3           0   \n",
       "8                  26467                   0            0           0   \n",
       "9                 134331                  75           21           0   \n",
       "10                 98695                  45           42           0   \n",
       "11                 27402                   0            0           0   \n",
       "12                 32702                   0            0           0   \n",
       "13                151866                  94          117           1   \n",
       "14                 75854                  84            8           0   \n",
       "15                 45904                   1            0           0   \n",
       "16                 43367                  26            0           0   \n",
       "17                106281                  54           10           0   \n",
       "18                 95149                  26            1           0   \n",
       "19                 93561                  59           13           0   \n",
       "\n",
       "    Tickets Raised  Monthly recurring charge  Video Product Calls  \\\n",
       "0                4                       153                    0   \n",
       "1                1                        74                    0   \n",
       "2                5                       133                    0   \n",
       "3               11                       208                    8   \n",
       "4                6                       155                    0   \n",
       "5               18                       186                   11   \n",
       "6                6                       169                    0   \n",
       "7                8                       209                    9   \n",
       "8                1                        33                    0   \n",
       "9               14                       215                   10   \n",
       "10               6                       161                    2   \n",
       "11               1                        45                    0   \n",
       "12               1                        36                    0   \n",
       "13              81                       322                  288   \n",
       "14              16                       138                    8   \n",
       "15               1                        49                    0   \n",
       "16               3                        65                    0   \n",
       "17               8                       177                    5   \n",
       "18               5                       111                    0   \n",
       "19              16                       133                    7   \n",
       "\n",
       "    Unique Agent Handled  Sales Call Made  Active Account Offer  \\\n",
       "0                      0                0                     0   \n",
       "1                      0                0                     0   \n",
       "2                      0                0                     0   \n",
       "3                     10                0                     1   \n",
       "4                      1                0                     0   \n",
       "5                     10                0                     1   \n",
       "6                      2                0                     0   \n",
       "7                     11                0                     1   \n",
       "8                      0                0                     0   \n",
       "9                     10                0                     1   \n",
       "10                     0                0                     0   \n",
       "11                     0                0                     0   \n",
       "12                     0                0                     0   \n",
       "13                   203                0                     1   \n",
       "14                    11                0                     1   \n",
       "15                     0                0                     0   \n",
       "16                     0                0                     0   \n",
       "17                     4                0                     1   \n",
       "18                     0                0                     0   \n",
       "19                     5                0                     1   \n",
       "\n",
       "    Top Viewed Channels  Previous Account Status  Monthly Payment Mode  \\\n",
       "0                     5                        2                     2   \n",
       "1                     5                        3                     2   \n",
       "2                     5                        2                     2   \n",
       "3                     5                        0                     2   \n",
       "4                     2                        3                     2   \n",
       "5                     5                        0                     2   \n",
       "6                     5                        3                     2   \n",
       "7                     5                        4                     2   \n",
       "8                     0                        4                     2   \n",
       "9                     5                        4                     2   \n",
       "10                    5                        0                     2   \n",
       "11                    5                        3                     2   \n",
       "12                    5                        3                     0   \n",
       "13                    5                        4                     2   \n",
       "14                    5                        4                     2   \n",
       "15                    5                        3                     2   \n",
       "16                    5                        4                     2   \n",
       "17                    5                        4                     2   \n",
       "18                    0                        4                     1   \n",
       "19                    5                        0                     1   \n",
       "\n",
       "     Scherp products Subscribed  Prefer direct mail  Dwelling Type  \\\n",
       "0                             9                   0              4   \n",
       "1                             7                   0              4   \n",
       "2                             9                   0              4   \n",
       "3                             1                   0              4   \n",
       "4                             1                   0              2   \n",
       "5                             3                   1              4   \n",
       "6                             9                   0              1   \n",
       "7                             7                   0              4   \n",
       "8                             7                   0              4   \n",
       "9                             7                   0              4   \n",
       "10                            9                   0              4   \n",
       "11                            7                   0              4   \n",
       "12                            9                   0              2   \n",
       "13                            9                   0              4   \n",
       "14                            7                   0              4   \n",
       "15                            7                   0              4   \n",
       "16                            7                   0              2   \n",
       "17                            9                   0              4   \n",
       "18                            7                   0              4   \n",
       "19                            1                   0              2   \n",
       "\n",
       "    Hardcopy Statement  Self_Service_Platform  \n",
       "0                     0               Desktop  \n",
       "1                     0               Desktop  \n",
       "2                     1               Desktop  \n",
       "3                     0               Desktop  \n",
       "4                     0                   STB  \n",
       "5                     1            Mobile App  \n",
       "6                     0               Desktop  \n",
       "7                     1                   STB  \n",
       "8                     0            Mobile App  \n",
       "9                     0               Desktop  \n",
       "10                    1               Desktop  \n",
       "11                    0               Desktop  \n",
       "12                    0               Desktop  \n",
       "13                    1                   STB  \n",
       "14                    0            Mobile App  \n",
       "15                    1               Desktop  \n",
       "16                    1            Mobile App  \n",
       "17                    0               Desktop  \n",
       "18                    0               Desktop  \n",
       "19                    0            Mobile Web  "
      ]
     },
     "execution_count": 35,
     "metadata": {},
     "output_type": "execute_result"
    }
   ],
   "source": [
    "train.head(20)"
   ]
  },
  {
   "cell_type": "code",
   "execution_count": 36,
   "metadata": {},
   "outputs": [
    {
     "data": {
      "image/png": "[encoded data removed]",
      "text/plain": [
       "<Figure size 576x432 with 1 Axes>"
      ]
     },
     "metadata": {
      "needs_background": "light"
     },
     "output_type": "display_data"
    }
   ],
   "source": [
    "plt.figure(figsize=(8,6))\n",
    "sns.countplot(x=train['Dwelling Type'],hue=train['Self_Service_Platform'])\n",
    "plt.title('Dwelling Type')\n",
    "ax=plt.axes()\n",
    "ax.set_facecolor('whitesmoke')\n",
    "plt.savefig('Dwelling_Type.png')"
   ]
  },
  {
   "cell_type": "code",
   "execution_count": 37,
   "metadata": {},
   "outputs": [
    {
     "data": {
      "text/html": [
       "<div>\n",
       "<style scoped>\n",
       "    .dataframe tbody tr th:only-of-type {\n",
       "        vertical-align: middle;\n",
       "    }\n",
       "\n",
       "    .dataframe tbody tr th {\n",
       "        vertical-align: top;\n",
       "    }\n",
       "\n",
       "    .dataframe thead th {\n",
       "        text-align: right;\n",
       "    }\n",
       "</style>\n",
       "<table border=\"1\" class=\"dataframe\">\n",
       "  <thead>\n",
       "    <tr style=\"text-align: right;\">\n",
       "      <th></th>\n",
       "      <th>Account Tenure</th>\n",
       "      <th>Wireless Equipments Owned</th>\n",
       "      <th>Active Account Offer</th>\n",
       "      <th>Trades Delinquent</th>\n",
       "      <th>Social Positioning</th>\n",
       "      <th>Video Product Calls</th>\n",
       "      <th>Median Family Income</th>\n",
       "      <th>Monthly recurring charge</th>\n",
       "      <th>Billing issue IVR calls</th>\n",
       "      <th>Internet Connect Status</th>\n",
       "      <th>Tickets Raised</th>\n",
       "      <th>Use of Credit Card</th>\n",
       "      <th>Tenure for Video Prodect</th>\n",
       "      <th>Video Products Tickets</th>\n",
       "    </tr>\n",
       "  </thead>\n",
       "  <tbody>\n",
       "    <tr>\n",
       "      <th>0</th>\n",
       "      <td>2667</td>\n",
       "      <td>0</td>\n",
       "      <td>0</td>\n",
       "      <td>9</td>\n",
       "      <td>4</td>\n",
       "      <td>0</td>\n",
       "      <td>85287</td>\n",
       "      <td>153</td>\n",
       "      <td>0</td>\n",
       "      <td>1768</td>\n",
       "      <td>4</td>\n",
       "      <td>27</td>\n",
       "      <td>447</td>\n",
       "      <td>161</td>\n",
       "    </tr>\n",
       "    <tr>\n",
       "      <th>1</th>\n",
       "      <td>435</td>\n",
       "      <td>0</td>\n",
       "      <td>0</td>\n",
       "      <td>4</td>\n",
       "      <td>3</td>\n",
       "      <td>0</td>\n",
       "      <td>60868</td>\n",
       "      <td>74</td>\n",
       "      <td>0</td>\n",
       "      <td>515</td>\n",
       "      <td>1</td>\n",
       "      <td>4</td>\n",
       "      <td>135</td>\n",
       "      <td>34</td>\n",
       "    </tr>\n",
       "    <tr>\n",
       "      <th>2</th>\n",
       "      <td>1520</td>\n",
       "      <td>0</td>\n",
       "      <td>0</td>\n",
       "      <td>10</td>\n",
       "      <td>6</td>\n",
       "      <td>0</td>\n",
       "      <td>92324</td>\n",
       "      <td>133</td>\n",
       "      <td>0</td>\n",
       "      <td>2280</td>\n",
       "      <td>5</td>\n",
       "      <td>26</td>\n",
       "      <td>453</td>\n",
       "      <td>112</td>\n",
       "    </tr>\n",
       "    <tr>\n",
       "      <th>3</th>\n",
       "      <td>4393</td>\n",
       "      <td>1</td>\n",
       "      <td>1</td>\n",
       "      <td>33</td>\n",
       "      <td>8</td>\n",
       "      <td>8</td>\n",
       "      <td>117785</td>\n",
       "      <td>208</td>\n",
       "      <td>1</td>\n",
       "      <td>5731</td>\n",
       "      <td>11</td>\n",
       "      <td>71</td>\n",
       "      <td>797</td>\n",
       "      <td>266</td>\n",
       "    </tr>\n",
       "    <tr>\n",
       "      <th>4</th>\n",
       "      <td>3587</td>\n",
       "      <td>0</td>\n",
       "      <td>0</td>\n",
       "      <td>15</td>\n",
       "      <td>7</td>\n",
       "      <td>0</td>\n",
       "      <td>100083</td>\n",
       "      <td>155</td>\n",
       "      <td>0</td>\n",
       "      <td>2493</td>\n",
       "      <td>6</td>\n",
       "      <td>46</td>\n",
       "      <td>614</td>\n",
       "      <td>166</td>\n",
       "    </tr>\n",
       "  </tbody>\n",
       "</table>\n",
       "</div>"
      ],
      "text/plain": [
       "   Account Tenure  Wireless Equipments Owned  Active Account Offer  \\\n",
       "0            2667                          0                     0   \n",
       "1             435                          0                     0   \n",
       "2            1520                          0                     0   \n",
       "3            4393                          1                     1   \n",
       "4            3587                          0                     0   \n",
       "\n",
       "   Trades Delinquent  Social Positioning  Video Product Calls  \\\n",
       "0                  9                   4                    0   \n",
       "1                  4                   3                    0   \n",
       "2                 10                   6                    0   \n",
       "3                 33                   8                    8   \n",
       "4                 15                   7                    0   \n",
       "\n",
       "   Median Family Income  Monthly recurring charge  Billing issue IVR calls  \\\n",
       "0                 85287                       153                        0   \n",
       "1                 60868                        74                        0   \n",
       "2                 92324                       133                        0   \n",
       "3                117785                       208                        1   \n",
       "4                100083                       155                        0   \n",
       "\n",
       "   Internet Connect Status  Tickets Raised  Use of Credit Card  \\\n",
       "0                     1768               4                  27   \n",
       "1                      515               1                   4   \n",
       "2                     2280               5                  26   \n",
       "3                     5731              11                  71   \n",
       "4                     2493               6                  46   \n",
       "\n",
       "   Tenure for Video Prodect  Video Products Tickets  \n",
       "0                       447                     161  \n",
       "1                       135                      34  \n",
       "2                       453                     112  \n",
       "3                       797                     266  \n",
       "4                       614                     166  "
      ]
     },
     "execution_count": 37,
     "metadata": {},
     "output_type": "execute_result"
    }
   ],
   "source": [
    "out1=train[['Account Tenure','Wireless Equipments Owned','Active Account Offer','Trades Delinquent','Social Positioning','Video Product Calls',\n",
    "            'Median Family Income','Monthly recurring charge','Billing issue IVR calls','Internet Connect Status','Tickets Raised','Use of Credit Card',\n",
    "            'Tenure for Video Prodect','Video Products Tickets','Self_Service_Platform']]\n",
    "out_1=train[['Account Tenure','Wireless Equipments Owned','Active Account Offer','Trades Delinquent','Social Positioning','Video Product Calls',\n",
    "            'Median Family Income','Monthly recurring charge','Billing issue IVR calls','Internet Connect Status','Tickets Raised','Use of Credit Card'\n",
    "             ,'Tenure for Video Prodect','Video Products Tickets']]\n",
    "out_1.head()"
   ]
  },
  {
   "cell_type": "markdown",
   "metadata": {},
   "source": [
    "# Dealing with Outliers"
   ]
  },
  {
   "cell_type": "code",
   "execution_count": 38,
   "metadata": {},
   "outputs": [
    {
     "data": {
      "text/plain": [
       "(261774, 15)"
      ]
     },
     "execution_count": 38,
     "metadata": {},
     "output_type": "execute_result"
    }
   ],
   "source": [
    "Q1 = out_1.quantile(0.25)\n",
    "Q3 = out_1.quantile(0.75)\n",
    "IQR = Q3 - Q1\n",
    "df4 = out1[~((out_1 < (Q1 - 1.5 * IQR)) |(out_1 > (Q3 + 1.5 * IQR))).any(axis=1)]\n",
    "df4.shape"
   ]
  },
  {
   "cell_type": "code",
   "execution_count": 39,
   "metadata": {},
   "outputs": [],
   "source": [
    "X3=df4.drop('Self_Service_Platform',axis=1)\n",
    "y3=df4['Self_Service_Platform']"
   ]
  },
  {
   "cell_type": "code",
   "execution_count": 40,
   "metadata": {},
   "outputs": [
    {
     "data": {
      "text/plain": [
       "Desktop       163853\n",
       "Mobile App     48305\n",
       "Mobile Web     41461\n",
       "STB             8155\n",
       "Name: Self_Service_Platform, dtype: int64"
      ]
     },
     "execution_count": 40,
     "metadata": {},
     "output_type": "execute_result"
    }
   ],
   "source": [
    "y3.value_counts()"
   ]
  },
  {
   "cell_type": "code",
   "execution_count": 41,
   "metadata": {},
   "outputs": [
    {
     "name": "stdout",
     "output_type": "stream",
     "text": [
      "X_train shape: (196330, 14)\n",
      "X_test shape: (65444, 14)\n",
      "y_train shape: (196330,)\n",
      "y_test shape: (65444,)\n"
     ]
    }
   ],
   "source": [
    "X3_train,X3_test,y3_train,y3_test=train_test_split(X3,y3,test_size=0.25)\n",
    "print(\"X_train shape: \"+str(X3_train.shape))\n",
    "print(\"X_test shape: \"+str(X3_test.shape))\n",
    "print(\"y_train shape: \"+str(y3_train.shape))\n",
    "print(\"y_test shape: \"+str(y3_test.shape))"
   ]
  },
  {
   "cell_type": "markdown",
   "metadata": {},
   "source": [
    "## Finding Co-Relation between the features"
   ]
  },
  {
   "cell_type": "code",
   "execution_count": 42,
   "metadata": {},
   "outputs": [
    {
     "data": {
      "image/png": "[encoded data removed]",
      "text/plain": [
       "<Figure size 936x648 with 2 Axes>"
      ]
     },
     "metadata": {
      "needs_background": "light"
     },
     "output_type": "display_data"
    }
   ],
   "source": [
    "from matplotlib import rcParams\n",
    "rcParams.update({'figure.autolayout': True})\n",
    "k_corr_matrix1 =df4.corr()\n",
    "plt.figure(figsize=(13,9))\n",
    "sns.heatmap(k_corr_matrix1, annot=True, cmap=plt.cm.RdBu_r)\n",
    "#plt.savefig('heatmap.jpg')\n",
    "plt.title('Heatmap for Correlation between Features')\n",
    "plt.savefig('Heatmap.png')"
   ]
  },
  {
   "cell_type": "code",
   "execution_count": 43,
   "metadata": {},
   "outputs": [
    {
     "data": {
      "image/png": "[encoded data removed]",
      "text/plain": [
       "<Figure size 576x432 with 1 Axes>"
      ]
     },
     "metadata": {},
     "output_type": "display_data"
    }
   ],
   "source": [
    "sns.set_style('white')\n",
    "plt.figure(figsize=(8,6))\n",
    "sns.barplot(y=train['Account Tenure'],x=train['Self_Service_Platform'])\n",
    "plt.title('Account Tenure')\n",
    "ax=plt.axes()\n",
    "ax.set_facecolor('whitesmoke')\n",
    "plt.savefig('Account_tenure.png')"
   ]
  },
  {
   "cell_type": "code",
   "execution_count": 44,
   "metadata": {},
   "outputs": [
    {
     "data": {
      "image/png": "[encoded data removed]",
      "text/plain": [
       "<Figure size 576x432 with 1 Axes>"
      ]
     },
     "metadata": {},
     "output_type": "display_data"
    }
   ],
   "source": [
    "plt.figure(figsize=(8,6))\n",
    "sns.boxplot(y=train['Trades Delinquent'],x=train['Self_Service_Platform'])\n",
    "plt.xticks(ticks=[0,1,2,3],labels=['Desktop','Mobile App','Mobile Web','STB'])\n",
    "plt.title('Trades Delinquent')\n",
    "ax=plt.axes()\n",
    "ax.set_facecolor('whitesmoke')\n",
    "plt.savefig('Trades_Delinquent.png')"
   ]
  },
  {
   "cell_type": "code",
   "execution_count": 45,
   "metadata": {},
   "outputs": [],
   "source": [
    "out_2=train[['Account Tenure','Wireless Equipments Owned','Active Account Offer','Trades Delinquent','Social Positioning','Video Product Calls',\n",
    "            'Monthly recurring charge','Billing issue IVR calls','Internet Connect Status','Tickets Raised']]\n",
    "out_2.head()\n",
    "out2=train[['Account Tenure','Wireless Equipments Owned','Active Account Offer','Trades Delinquent','Social Positioning','Video Product Calls',\n",
    "        'Monthly recurring charge','Billing issue IVR calls','Internet Connect Status','Tickets Raised','Self_Service_Platform']]"
   ]
  },
  {
   "cell_type": "code",
   "execution_count": 46,
   "metadata": {},
   "outputs": [
    {
     "data": {
      "text/plain": [
       "(261788, 11)"
      ]
     },
     "execution_count": 46,
     "metadata": {},
     "output_type": "execute_result"
    }
   ],
   "source": [
    "Q1 = out_2.quantile(0.25)\n",
    "Q3 = out_2.quantile(0.75)\n",
    "IQR = Q3 - Q1\n",
    "df5 = out2[~((out_2 < (Q1 - 1.5 * IQR)) |(out_2 > (Q3 + 1.5 * IQR))).any(axis=1)]\n",
    "df5.shape"
   ]
  },
  {
   "cell_type": "markdown",
   "metadata": {},
   "source": [
    "# Distributing the Data"
   ]
  },
  {
   "cell_type": "code",
   "execution_count": 47,
   "metadata": {},
   "outputs": [],
   "source": [
    "X4=df5.drop('Self_Service_Platform',axis=1)\n",
    "y4=df5['Self_Service_Platform']"
   ]
  },
  {
   "cell_type": "code",
   "execution_count": 48,
   "metadata": {},
   "outputs": [
    {
     "name": "stdout",
     "output_type": "stream",
     "text": [
      "X_train shape: (196341, 10)\n",
      "X_test shape: (65447, 10)\n",
      "y_train shape: (196341,)\n",
      "y_test shape: (65447,)\n"
     ]
    }
   ],
   "source": [
    "X4_train,X4_test,y4_train,y4_test=train_test_split(X4,y4,test_size=0.25)\n",
    "print(\"X_train shape: \"+str(X4_train.shape))\n",
    "print(\"X_test shape: \"+str(X4_test.shape))\n",
    "print(\"y_train shape: \"+str(y4_train.shape))\n",
    "print(\"y_test shape: \"+str(y4_test.shape))"
   ]
  },
  {
   "cell_type": "code",
   "execution_count": 49,
   "metadata": {},
   "outputs": [
    {
     "data": {
      "text/plain": [
       "GridSearchCV(cv=10, error_score='raise-deprecating',\n",
       "       estimator=DecisionTreeClassifier(class_weight=None, criterion='gini', max_depth=None,\n",
       "            max_features=None, max_leaf_nodes=None,\n",
       "            min_impurity_decrease=0.0, min_impurity_split=None,\n",
       "            min_samples_leaf=1, min_samples_split=2,\n",
       "            min_weight_fraction_leaf=0.0, presort=False, random_state=None,\n",
       "            splitter='best'),\n",
       "       fit_params=None, iid='warn', n_jobs=None,\n",
       "       param_grid={'max_depth': range(1, 14)}, pre_dispatch='2*n_jobs',\n",
       "       refit=True, return_train_score='warn', scoring='accuracy',\n",
       "       verbose=0)"
      ]
     },
     "execution_count": 49,
     "metadata": {},
     "output_type": "execute_result"
    }
   ],
   "source": [
    "dt=DecisionTreeClassifier()\n",
    "param_grid=dict(max_depth=range(1,14))\n",
    "grid_dt4=GridSearchCV(dt,param_grid,cv=10,scoring='accuracy')\n",
    "grid_dt4.fit(X4_train,y4_train)"
   ]
  },
  {
   "cell_type": "markdown",
   "metadata": {},
   "source": [
    "## Applying the Classifier to the training data"
   ]
  },
  {
   "cell_type": "code",
   "execution_count": 50,
   "metadata": {},
   "outputs": [
    {
     "data": {
      "text/plain": [
       "0.7438385258300609"
      ]
     },
     "execution_count": 50,
     "metadata": {},
     "output_type": "execute_result"
    }
   ],
   "source": [
    "clf=DecisionTreeClassifier(max_depth=10).fit(X4_train,y4_train)\n",
    "y4_pred = clf.predict(X4_test)\n",
    "metrics.accuracy_score(y4_test,y4_pred)"
   ]
  },
  {
   "cell_type": "markdown",
   "metadata": {},
   "source": [
    "# Confusion Matrix"
   ]
  },
  {
   "cell_type": "code",
   "execution_count": 51,
   "metadata": {},
   "outputs": [
    {
     "name": "stdout",
     "output_type": "stream",
     "text": [
      "Requirement already satisfied: scikit-plot in c:\\users\\saurabh\\anaconda3\\lib\\site-packages (0.3.7)\n",
      "Requirement already satisfied: joblib>=0.10 in c:\\users\\saurabh\\anaconda3\\lib\\site-packages (from scikit-plot) (0.14.1)\n",
      "Requirement already satisfied: matplotlib>=1.4.0 in c:\\users\\saurabh\\anaconda3\\lib\\site-packages (from scikit-plot) (3.0.2)\n",
      "Requirement already satisfied: scipy>=0.9 in c:\\users\\saurabh\\anaconda3\\lib\\site-packages (from scikit-plot) (1.1.0)\n",
      "Requirement already satisfied: scikit-learn>=0.18 in c:\\users\\saurabh\\anaconda3\\lib\\site-packages (from scikit-plot) (0.20.1)\n",
      "Requirement already satisfied: numpy>=1.10.0 in c:\\users\\saurabh\\anaconda3\\lib\\site-packages (from matplotlib>=1.4.0->scikit-plot) (1.15.4)\n",
      "Requirement already satisfied: cycler>=0.10 in c:\\users\\saurabh\\anaconda3\\lib\\site-packages (from matplotlib>=1.4.0->scikit-plot) (0.10.0)\n",
      "Requirement already satisfied: kiwisolver>=1.0.1 in c:\\users\\saurabh\\anaconda3\\lib\\site-packages (from matplotlib>=1.4.0->scikit-plot) (1.0.1)\n",
      "Requirement already satisfied: pyparsing!=2.0.4,!=2.1.2,!=2.1.6,>=2.0.1 in c:\\users\\saurabh\\anaconda3\\lib\\site-packages (from matplotlib>=1.4.0->scikit-plot) (2.3.0)\n",
      "Requirement already satisfied: python-dateutil>=2.1 in c:\\users\\saurabh\\anaconda3\\lib\\site-packages (from matplotlib>=1.4.0->scikit-plot) (2.7.5)\n",
      "Requirement already satisfied: six in c:\\users\\saurabh\\anaconda3\\lib\\site-packages (from cycler>=0.10->matplotlib>=1.4.0->scikit-plot) (1.12.0)\n",
      "Requirement already satisfied: setuptools in c:\\users\\saurabh\\anaconda3\\lib\\site-packages (from kiwisolver>=1.0.1->matplotlib>=1.4.0->scikit-plot) (40.6.3)\n"
     ]
    },
    {
     "data": {
      "image/png": "[encoded data removed]",
      "text/plain": [
       "<Figure size 432x288 with 2 Axes>"
      ]
     },
     "metadata": {},
     "output_type": "display_data"
    }
   ],
   "source": [
    "! pip install scikit-plot\n",
    "import scikitplot as skplt\n",
    "skplt.metrics.plot_confusion_matrix(y4_test,y4_pred,title='Confusion Matrix for Train Data')\n",
    "plt.savefig('Confusion_Matrix.png')"
   ]
  },
  {
   "cell_type": "markdown",
   "metadata": {},
   "source": [
    "# Some other Visualization Plots"
   ]
  },
  {
   "cell_type": "code",
   "execution_count": 52,
   "metadata": {},
   "outputs": [
    {
     "data": {
      "text/plain": [
       "<matplotlib.axes._subplots.AxesSubplot at 0x265851dcb70>"
      ]
     },
     "execution_count": 52,
     "metadata": {},
     "output_type": "execute_result"
    },
    {
     "data": {
      "image/png": "[encoded data removed]",
      "text/plain": [
       "<Figure size 432x288 with 1 Axes>"
      ]
     },
     "metadata": {},
     "output_type": "display_data"
    }
   ],
   "source": [
    "sns.barplot(x=train['Self_Service_Platform'],y=train['Voice Ticks'],data=train)"
   ]
  },
  {
   "cell_type": "code",
   "execution_count": 53,
   "metadata": {},
   "outputs": [
    {
     "data": {
      "text/plain": [
       "<matplotlib.axes._subplots.AxesSubplot at 0x26585245160>"
      ]
     },
     "execution_count": 53,
     "metadata": {},
     "output_type": "execute_result"
    },
    {
     "data": {
      "image/png": "[encoded data removed]",
      "text/plain": [
       "<Figure size 432x288 with 1 Axes>"
      ]
     },
     "metadata": {},
     "output_type": "display_data"
    }
   ],
   "source": [
    "sns.barplot(x=train['Self_Service_Platform'],y=train['On-Demand Videos Watched'],data=train)"
   ]
  },
  {
   "cell_type": "code",
   "execution_count": 54,
   "metadata": {
    "scrolled": true
   },
   "outputs": [
    {
     "data": {
      "text/plain": [
       "<matplotlib.axes._subplots.AxesSubplot at 0x26584ce8b00>"
      ]
     },
     "execution_count": 54,
     "metadata": {},
     "output_type": "execute_result"
    },
    {
     "data": {
      "image/png": "[encoded data removed]",
      "text/plain": [
       "<Figure size 432x288 with 1 Axes>"
      ]
     },
     "metadata": {},
     "output_type": "display_data"
    }
   ],
   "source": [
    "sns.barplot(x=train['Self_Service_Platform'],y=train['Tickets Raised'],data=train)"
   ]
  },
  {
   "cell_type": "code",
   "execution_count": 55,
   "metadata": {},
   "outputs": [
    {
     "data": {
      "text/plain": [
       "<matplotlib.axes._subplots.AxesSubplot at 0x265846d0588>"
      ]
     },
     "execution_count": 55,
     "metadata": {},
     "output_type": "execute_result"
    },
    {
     "data": {
      "image/png": "[encoded data removed]",
      "text/plain": [
       "<Figure size 432x288 with 1 Axes>"
      ]
     },
     "metadata": {},
     "output_type": "display_data"
    }
   ],
   "source": [
    "sns.barplot(x=train['Self_Service_Platform'],y=train['Video Product Calls'],data=train)"
   ]
  },
  {
   "cell_type": "code",
   "execution_count": 56,
   "metadata": {},
   "outputs": [
    {
     "data": {
      "text/plain": [
       "<matplotlib.axes._subplots.AxesSubplot at 0x26584ce49e8>"
      ]
     },
     "execution_count": 56,
     "metadata": {},
     "output_type": "execute_result"
    },
    {
     "data": {
      "image/png": "[encoded data removed]",
      "text/plain": [
       "<Figure size 432x288 with 1 Axes>"
      ]
     },
     "metadata": {},
     "output_type": "display_data"
    }
   ],
   "source": [
    "sns.barplot(x=train['Self_Service_Platform'],y=train['Sales Call Made'],data=train)"
   ]
  },
  {
   "cell_type": "code",
   "execution_count": 57,
   "metadata": {},
   "outputs": [
    {
     "data": {
      "text/plain": [
       "<matplotlib.axes._subplots.AxesSubplot at 0x26583ae5c88>"
      ]
     },
     "execution_count": 57,
     "metadata": {},
     "output_type": "execute_result"
    },
    {
     "data": {
      "image/png": "[encoded data removed]",
      "text/plain": [
       "<Figure size 432x288 with 1 Axes>"
      ]
     },
     "metadata": {},
     "output_type": "display_data"
    }
   ],
   "source": [
    "sns.barplot(x=train['Self_Service_Platform'],y=train['Billing issue IVR calls'],data=train)"
   ]
  },
  {
   "cell_type": "code",
   "execution_count": 58,
   "metadata": {},
   "outputs": [
    {
     "data": {
      "text/plain": [
       "<matplotlib.axes._subplots.AxesSubplot at 0x26595ae8c18>"
      ]
     },
     "execution_count": 58,
     "metadata": {},
     "output_type": "execute_result"
    },
    {
     "data": {
      "image/png": "[encoded data removed]",
      "text/plain": [
       "<Figure size 432x288 with 1 Axes>"
      ]
     },
     "metadata": {},
     "output_type": "display_data"
    }
   ],
   "source": [
    "sns.barplot(x=train['Self_Service_Platform'],y=train['Internet Connect Status'],data=train)"
   ]
  },
  {
   "cell_type": "code",
   "execution_count": 59,
   "metadata": {},
   "outputs": [
    {
     "data": {
      "text/plain": [
       "<matplotlib.axes._subplots.AxesSubplot at 0x26580279710>"
      ]
     },
     "execution_count": 59,
     "metadata": {},
     "output_type": "execute_result"
    },
    {
     "data": {
      "image/png": "[encoded data removed]",
      "text/plain": [
       "<Figure size 432x288 with 1 Axes>"
      ]
     },
     "metadata": {},
     "output_type": "display_data"
    }
   ],
   "source": [
    "sns.barplot(x=train['Self_Service_Platform'],y=train['Median House Value'],data=train)"
   ]
  },
  {
   "cell_type": "code",
   "execution_count": 60,
   "metadata": {},
   "outputs": [
    {
     "data": {
      "text/plain": [
       "<matplotlib.axes._subplots.AxesSubplot at 0x26583b2e5c0>"
      ]
     },
     "execution_count": 60,
     "metadata": {},
     "output_type": "execute_result"
    },
    {
     "data": {
      "image/png": "[encoded data removed]",
      "text/plain": [
       "<Figure size 432x288 with 1 Axes>"
      ]
     },
     "metadata": {},
     "output_type": "display_data"
    }
   ],
   "source": [
    "sns.barplot(x=train['Self_Service_Platform'],y=train['Trades Delinquent'],data=train)"
   ]
  },
  {
   "cell_type": "code",
   "execution_count": 61,
   "metadata": {},
   "outputs": [
    {
     "data": {
      "text/plain": [
       "<matplotlib.axes._subplots.AxesSubplot at 0x265846f3470>"
      ]
     },
     "execution_count": 61,
     "metadata": {},
     "output_type": "execute_result"
    },
    {
     "data": {
      "image/png": "[encoded data removed]",
      "text/plain": [
       "<Figure size 432x288 with 1 Axes>"
      ]
     },
     "metadata": {},
     "output_type": "display_data"
    }
   ],
   "source": [
    "sns.barplot(x=train['Self_Service_Platform'],y=train['Unique Agent Handled'],data=train)"
   ]
  },
  {
   "cell_type": "code",
   "execution_count": 62,
   "metadata": {},
   "outputs": [
    {
     "data": {
      "text/plain": [
       "<matplotlib.axes._subplots.AxesSubplot at 0x26583b6ae10>"
      ]
     },
     "execution_count": 62,
     "metadata": {},
     "output_type": "execute_result"
    },
    {
     "data": {
      "image/png": "[encoded data removed]",
      "text/plain": [
       "<Figure size 432x288 with 1 Axes>"
      ]
     },
     "metadata": {},
     "output_type": "display_data"
    }
   ],
   "source": [
    "sns.barplot(x=train['Self_Service_Platform'],y=train['Median Family Income'],data=train)"
   ]
  },
  {
   "cell_type": "code",
   "execution_count": 63,
   "metadata": {},
   "outputs": [
    {
     "data": {
      "text/plain": [
       "<matplotlib.axes._subplots.AxesSubplot at 0x265846a3320>"
      ]
     },
     "execution_count": 63,
     "metadata": {},
     "output_type": "execute_result"
    },
    {
     "data": {
      "image/png": "[encoded data removed]",
      "text/plain": [
       "<Figure size 720x432 with 1 Axes>"
      ]
     },
     "metadata": {},
     "output_type": "display_data"
    }
   ],
   "source": [
    "plt.figure(figsize=(10,6))\n",
    "sns.countplot(x=' Scherp products Subscribed',data=train,hue='Self_Service_Platform')"
   ]
  },
  {
   "cell_type": "code",
   "execution_count": 64,
   "metadata": {},
   "outputs": [
    {
     "data": {
      "text/plain": [
       "<matplotlib.axes._subplots.AxesSubplot at 0x26583acd2e8>"
      ]
     },
     "execution_count": 64,
     "metadata": {},
     "output_type": "execute_result"
    },
    {
     "data": {
      "image/png": "[encoded data removed]",
      "text/plain": [
       "<Figure size 432x288 with 1 Axes>"
      ]
     },
     "metadata": {},
     "output_type": "display_data"
    }
   ],
   "source": [
    "sns.barplot(x=train['Self_Service_Platform'],y=train['Duration News Channel Watched'],data=train)"
   ]
  },
  {
   "cell_type": "code",
   "execution_count": 65,
   "metadata": {},
   "outputs": [
    {
     "data": {
      "text/plain": [
       "<matplotlib.axes._subplots.AxesSubplot at 0x265846dd908>"
      ]
     },
     "execution_count": 65,
     "metadata": {},
     "output_type": "execute_result"
    },
    {
     "data": {
      "image/png": "[encoded data removed]",
      "text/plain": [
       "<Figure size 432x288 with 1 Axes>"
      ]
     },
     "metadata": {},
     "output_type": "display_data"
    }
   ],
   "source": [
    "sns.barplot(x=train['Self_Service_Platform'],y=train['Temporary Accounts Disconnected'],data=train)"
   ]
  },
  {
   "cell_type": "code",
   "execution_count": 66,
   "metadata": {},
   "outputs": [
    {
     "data": {
      "text/plain": [
       "<matplotlib.axes._subplots.AxesSubplot at 0x265844b1b00>"
      ]
     },
     "execution_count": 66,
     "metadata": {},
     "output_type": "execute_result"
    },
    {
     "data": {
      "image/png": "[encoded data removed]",
      "text/plain": [
       "<Figure size 432x288 with 1 Axes>"
      ]
     },
     "metadata": {},
     "output_type": "display_data"
    }
   ],
   "source": [
    "sns.barplot(x=train['Self_Service_Platform'],y=train['Wireless Equipments Owned'],data=train)"
   ]
  },
  {
   "cell_type": "code",
   "execution_count": 67,
   "metadata": {},
   "outputs": [
    {
     "data": {
      "text/plain": [
       "<matplotlib.axes._subplots.AxesSubplot at 0x265845027b8>"
      ]
     },
     "execution_count": 67,
     "metadata": {},
     "output_type": "execute_result"
    },
    {
     "data": {
      "image/png": "[encoded data removed]",
      "text/plain": [
       "<Figure size 432x288 with 1 Axes>"
      ]
     },
     "metadata": {},
     "output_type": "display_data"
    }
   ],
   "source": [
    "sns.barplot(x=train['Self_Service_Platform'],y=train['Monthly recurring charge'],data=train)"
   ]
  },
  {
   "cell_type": "code",
   "execution_count": null,
   "metadata": {},
   "outputs": [],
   "source": []
  }
 ],
 "metadata": {
  "kernelspec": {
   "display_name": "Python 3",
   "language": "python",
   "name": "python3"
  },
  "language_info": {
   "codemirror_mode": {
    "name": "ipython",
    "version": 3
   },
   "file_extension": ".py",
   "mimetype": "text/x-python",
   "name": "python",
   "nbconvert_exporter": "python",
   "pygments_lexer": "ipython3",
   "version": "3.7.1"
  }
 },
 "nbformat": 4,
 "nbformat_minor": 2
}
